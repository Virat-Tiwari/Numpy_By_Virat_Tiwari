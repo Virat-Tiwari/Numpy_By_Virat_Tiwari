{
 "cells": [
  {
   "cell_type": "markdown",
   "id": "e02248ed-7c3c-4304-b363-217e5c0d6754",
   "metadata": {},
   "source": [
    "NUMPY - Numpy stands for NUMERICAL PYTHON , it is used for the data processing and We have lists in Python that act as arrays, however they are slow to process.  NumPy aims to provide an array object that is up to 50 times faster than traditional Python lists. It may be used to conduct a wide range of array-based mathematical operations. It extends Python with advanced analytical structures that ensure fast computations with arrays and matrices, as well as a large library of high-level mathematical functions that work with these arrays and matrices. NumPy arrays, unlike lists, are kept in a single continuous location in memory, allowing programmes to access and manipulate them quickly."
   ]
  },
  {
   "cell_type": "code",
   "execution_count": 1,
   "id": "3d06a40a-500a-4b01-889d-743fd93874c6",
   "metadata": {},
   "outputs": [],
   "source": [
    "# By using the \" import \" function we can easily import the numpy package in python\n",
    "\n",
    "# as - stands for alias , we can give any name to the alias like here we give \" np \" \n",
    "\n",
    "import numpy as np"
   ]
  },
  {
   "cell_type": "code",
   "execution_count": 2,
   "id": "9160aab6-68ad-4753-8480-3bb0224fa831",
   "metadata": {},
   "outputs": [],
   "source": [
    "# l is our list \n",
    "\n",
    "l = [1,2,3,4,5,6]"
   ]
  },
  {
   "cell_type": "code",
   "execution_count": 3,
   "id": "4cf5afa7-dcc5-4913-81bc-5bbdc80a576b",
   "metadata": {},
   "outputs": [
    {
     "data": {
      "text/plain": [
       "array([1, 2, 3, 4, 5, 6])"
      ]
     },
     "execution_count": 3,
     "metadata": {},
     "output_type": "execute_result"
    }
   ],
   "source": [
    "# By using the \" .array( ) \" we can convert any list into the array \n",
    "\n",
    "# This is one dimentional array\n",
    "np.array(l)"
   ]
  },
  {
   "cell_type": "code",
   "execution_count": 4,
   "id": "8a876631-ece9-402c-9309-2d9eba5960e0",
   "metadata": {},
   "outputs": [],
   "source": [
    "# Note - array ( ) , asarray ( ) and asanyarray ( ) all these three functions are same and they are used to convert any list into array"
   ]
  },
  {
   "cell_type": "code",
   "execution_count": 5,
   "id": "282a3731-931f-4e36-b18c-46448b67c4ff",
   "metadata": {},
   "outputs": [],
   "source": [
    "# This is how we can store in \" ar \" variable\n",
    "\n",
    "ar=np.array(l)"
   ]
  },
  {
   "cell_type": "code",
   "execution_count": 6,
   "id": "0f8144e8-1266-4445-8ae8-fca2630ebdba",
   "metadata": {},
   "outputs": [
    {
     "data": {
      "text/plain": [
       "numpy.ndarray"
      ]
     },
     "execution_count": 6,
     "metadata": {},
     "output_type": "execute_result"
    }
   ],
   "source": [
    "type(ar)\n",
    "\n",
    "# Note - ndarray is N-dimentional array"
   ]
  },
  {
   "cell_type": "code",
   "execution_count": 7,
   "id": "44e7c3ae-8f8d-4787-ac1d-8b5180fc15a4",
   "metadata": {},
   "outputs": [],
   "source": [
    "# This is two dimentional array\n",
    "\n",
    "c=np.array([[1,2],[3,4]])"
   ]
  },
  {
   "cell_type": "code",
   "execution_count": 8,
   "id": "e60285a5-5a03-4be2-8669-3846f1409712",
   "metadata": {},
   "outputs": [
    {
     "data": {
      "text/plain": [
       "array([1, 2, 3, 4, 5, 6])"
      ]
     },
     "execution_count": 8,
     "metadata": {},
     "output_type": "execute_result"
    }
   ],
   "source": [
    "np.asarray(l)"
   ]
  },
  {
   "cell_type": "code",
   "execution_count": 9,
   "id": "ce5eec64-631a-402a-923c-ec677b841365",
   "metadata": {},
   "outputs": [],
   "source": [
    "# a is our list\n",
    "\n",
    "a=[2,3,6]"
   ]
  },
  {
   "cell_type": "code",
   "execution_count": 10,
   "id": "c8aba581-c836-4573-9fe5-ce957606446d",
   "metadata": {},
   "outputs": [
    {
     "data": {
      "text/plain": [
       "array([2, 3, 6])"
      ]
     },
     "execution_count": 10,
     "metadata": {},
     "output_type": "execute_result"
    }
   ],
   "source": [
    "#Here we convert \"a\" list into the array by using \"asarray\" function\n",
    "\n",
    "np.asarray(a)"
   ]
  },
  {
   "cell_type": "code",
   "execution_count": 11,
   "id": "705f21b0-21f4-43b1-ac9b-36babfef070d",
   "metadata": {},
   "outputs": [],
   "source": [
    "b=np.matrix(l)"
   ]
  },
  {
   "cell_type": "code",
   "execution_count": 12,
   "id": "4a747c36-46b0-4da4-8bbf-ba61b79e0303",
   "metadata": {},
   "outputs": [
    {
     "data": {
      "text/plain": [
       "matrix([[1, 2, 3, 4, 5, 6]])"
      ]
     },
     "execution_count": 12,
     "metadata": {},
     "output_type": "execute_result"
    }
   ],
   "source": [
    "b"
   ]
  },
  {
   "cell_type": "code",
   "execution_count": 13,
   "id": "0c1c0bcc-643f-40a8-90fb-684f6b8bee4f",
   "metadata": {},
   "outputs": [],
   "source": [
    "# Note - By default Matrix is 2-dimentional\n",
    "\n",
    "# Note - Array is a superclass in Munpy and Matrix is a subset of Array"
   ]
  },
  {
   "cell_type": "code",
   "execution_count": 14,
   "id": "fc2a6a9b-029c-425e-b315-3cfdead8fd9f",
   "metadata": {},
   "outputs": [
    {
     "data": {
      "text/plain": [
       "array([1, 2, 3, 4, 5, 6])"
      ]
     },
     "execution_count": 14,
     "metadata": {},
     "output_type": "execute_result"
    }
   ],
   "source": [
    "np.asarray(l)"
   ]
  },
  {
   "cell_type": "code",
   "execution_count": 15,
   "id": "4c6a79df-79a9-41f4-976b-225ad82df2b7",
   "metadata": {},
   "outputs": [],
   "source": [
    "a=[1,5,6]"
   ]
  },
  {
   "cell_type": "code",
   "execution_count": 16,
   "id": "0e56d1da-7010-41b8-8461-d8bc187fb984",
   "metadata": {},
   "outputs": [
    {
     "data": {
      "text/plain": [
       "array([1, 5, 6])"
      ]
     },
     "execution_count": 16,
     "metadata": {},
     "output_type": "execute_result"
    }
   ],
   "source": [
    "np.asanyarray(a)"
   ]
  },
  {
   "cell_type": "code",
   "execution_count": 17,
   "id": "43da74ec-e12d-4fc0-80f5-b4e541f3d992",
   "metadata": {},
   "outputs": [
    {
     "data": {
      "text/plain": [
       "matrix([[1, 2, 3, 4, 5, 6]])"
      ]
     },
     "execution_count": 17,
     "metadata": {},
     "output_type": "execute_result"
    }
   ],
   "source": [
    "np.asanyarray(b)"
   ]
  },
  {
   "cell_type": "code",
   "execution_count": 18,
   "id": "2c02f302-4d1b-4526-ac5d-6db39ee8f090",
   "metadata": {},
   "outputs": [],
   "source": [
    "a=np.array(l)"
   ]
  },
  {
   "cell_type": "code",
   "execution_count": 19,
   "id": "f8f1da55-0e6d-40dc-9384-827f79eee995",
   "metadata": {},
   "outputs": [
    {
     "data": {
      "text/plain": [
       "array([1, 2, 3, 4, 5, 6])"
      ]
     },
     "execution_count": 19,
     "metadata": {},
     "output_type": "execute_result"
    }
   ],
   "source": [
    "a"
   ]
  },
  {
   "cell_type": "code",
   "execution_count": 20,
   "id": "2feeccc3-1a96-4da2-88d8-6dd98a1df4fd",
   "metadata": {},
   "outputs": [],
   "source": [
    "# This is called swallow copy function\n",
    "\n",
    "c=a"
   ]
  },
  {
   "cell_type": "code",
   "execution_count": 21,
   "id": "6707b5ec-483f-4c37-ac63-f6e71085961e",
   "metadata": {},
   "outputs": [
    {
     "data": {
      "text/plain": [
       "array([1, 2, 3, 4, 5, 6])"
      ]
     },
     "execution_count": 21,
     "metadata": {},
     "output_type": "execute_result"
    }
   ],
   "source": [
    "c"
   ]
  },
  {
   "cell_type": "code",
   "execution_count": 22,
   "id": "d0984d81-ea9d-4201-959d-5c950892c519",
   "metadata": {},
   "outputs": [
    {
     "data": {
      "text/plain": [
       "array([1, 2, 3, 4, 5, 6])"
      ]
     },
     "execution_count": 22,
     "metadata": {},
     "output_type": "execute_result"
    }
   ],
   "source": [
    "a"
   ]
  },
  {
   "cell_type": "code",
   "execution_count": 23,
   "id": "89571f91-0ee2-4623-8491-47aeec2d0bda",
   "metadata": {},
   "outputs": [
    {
     "data": {
      "text/plain": [
       "1"
      ]
     },
     "execution_count": 23,
     "metadata": {},
     "output_type": "execute_result"
    }
   ],
   "source": [
    "c[0]"
   ]
  },
  {
   "cell_type": "code",
   "execution_count": 24,
   "id": "6fb64bf3-5703-4ef5-8657-9e2d24a91645",
   "metadata": {},
   "outputs": [],
   "source": [
    "c[0]=100"
   ]
  },
  {
   "cell_type": "code",
   "execution_count": 25,
   "id": "7a11fa35-5522-413a-94d6-25afc1c16aaf",
   "metadata": {},
   "outputs": [
    {
     "data": {
      "text/plain": [
       "array([100,   2,   3,   4,   5,   6])"
      ]
     },
     "execution_count": 25,
     "metadata": {},
     "output_type": "execute_result"
    }
   ],
   "source": [
    "c"
   ]
  },
  {
   "cell_type": "code",
   "execution_count": 26,
   "id": "eb99698a-e106-4044-84ec-0f1e6fb719bd",
   "metadata": {},
   "outputs": [
    {
     "data": {
      "text/plain": [
       "array([100,   2,   3,   4,   5,   6])"
      ]
     },
     "execution_count": 26,
     "metadata": {},
     "output_type": "execute_result"
    }
   ],
   "source": [
    "a"
   ]
  },
  {
   "cell_type": "code",
   "execution_count": 27,
   "id": "b014335c-ee0a-4abd-8102-c06709b4f559",
   "metadata": {},
   "outputs": [],
   "source": [
    "# This is called deep copy function\n",
    "\n",
    "d=np.copy(a)"
   ]
  },
  {
   "cell_type": "code",
   "execution_count": 28,
   "id": "f7990967-0840-4858-bc67-84597040d967",
   "metadata": {},
   "outputs": [
    {
     "data": {
      "text/plain": [
       "array([100,   2,   3,   4,   5,   6])"
      ]
     },
     "execution_count": 28,
     "metadata": {},
     "output_type": "execute_result"
    }
   ],
   "source": [
    "d"
   ]
  },
  {
   "cell_type": "code",
   "execution_count": 29,
   "id": "43fd2af4-0fbb-4e19-afad-b9ec3874d572",
   "metadata": {},
   "outputs": [
    {
     "data": {
      "text/plain": [
       "array([100,   2,   3,   4,   5,   6])"
      ]
     },
     "execution_count": 29,
     "metadata": {},
     "output_type": "execute_result"
    }
   ],
   "source": [
    "a"
   ]
  },
  {
   "cell_type": "code",
   "execution_count": 30,
   "id": "2ce99f11-2ac4-4574-ab30-9e4b48d0ab1d",
   "metadata": {},
   "outputs": [],
   "source": [
    "a[1]=500"
   ]
  },
  {
   "cell_type": "code",
   "execution_count": 31,
   "id": "19046246-a346-466d-b355-4848de1ce160",
   "metadata": {},
   "outputs": [
    {
     "data": {
      "text/plain": [
       "array([100, 500,   3,   4,   5,   6])"
      ]
     },
     "execution_count": 31,
     "metadata": {},
     "output_type": "execute_result"
    }
   ],
   "source": [
    "a"
   ]
  },
  {
   "cell_type": "code",
   "execution_count": 32,
   "id": "fcca2768-0a75-4440-9745-00755072ee1c",
   "metadata": {},
   "outputs": [
    {
     "data": {
      "text/plain": [
       "array([100,   2,   3,   4,   5,   6])"
      ]
     },
     "execution_count": 32,
     "metadata": {},
     "output_type": "execute_result"
    }
   ],
   "source": [
    "d"
   ]
  },
  {
   "cell_type": "code",
   "execution_count": 33,
   "id": "f2776ad1-43cc-45d3-8746-2b38abbd6b8b",
   "metadata": {},
   "outputs": [],
   "source": [
    "# Note - In the end of the day we generate array or deal with the array in numpy"
   ]
  },
  {
   "cell_type": "code",
   "execution_count": 34,
   "id": "6c6ef442-7b75-499a-b1b7-2c8f8e3fb786",
   "metadata": {},
   "outputs": [
    {
     "data": {
      "text/plain": [
       "array([[ True, False, False],\n",
       "       [False,  True, False],\n",
       "       [False, False,  True]])"
      ]
     },
     "execution_count": 34,
     "metadata": {},
     "output_type": "execute_result"
    }
   ],
   "source": [
    "np.fromfunction(lambda i,j:i==j,(3,3))"
   ]
  },
  {
   "cell_type": "code",
   "execution_count": 35,
   "id": "9837a936-26c3-49b8-a73b-bb5b453de993",
   "metadata": {},
   "outputs": [
    {
     "data": {
      "text/plain": [
       "array([[0., 0., 0.],\n",
       "       [0., 1., 2.],\n",
       "       [0., 2., 4.]])"
      ]
     },
     "execution_count": 35,
     "metadata": {},
     "output_type": "execute_result"
    }
   ],
   "source": [
    "np.fromfunction(lambda i,j:i*j,(3,3))"
   ]
  },
  {
   "cell_type": "code",
   "execution_count": 36,
   "id": "eb2cf7ca-3ab3-460f-9e9a-27dcda444325",
   "metadata": {},
   "outputs": [],
   "source": [
    "# This is how we made arry from iterables\n",
    "\n",
    "iterable=(i*i for i in range (5))"
   ]
  },
  {
   "cell_type": "code",
   "execution_count": 39,
   "id": "aa1fe4f0-e2d7-4fc2-8543-dd6dc64bbab3",
   "metadata": {},
   "outputs": [
    {
     "data": {
      "text/plain": [
       "array([ 0.,  1.,  4.,  9., 16.])"
      ]
     },
     "execution_count": 39,
     "metadata": {},
     "output_type": "execute_result"
    }
   ],
   "source": [
    "np.fromiter(iterable,float)"
   ]
  },
  {
   "cell_type": "code",
   "execution_count": 41,
   "id": "201bf513-1ca3-44b8-9644-b5341a75559c",
   "metadata": {},
   "outputs": [
    {
     "data": {
      "text/plain": [
       "array([256., 456.])"
      ]
     },
     "execution_count": 41,
     "metadata": {},
     "output_type": "execute_result"
    }
   ],
   "source": [
    "np.fromstring(\"256 456\",sep=\" \")"
   ]
  },
  {
   "cell_type": "code",
   "execution_count": 42,
   "id": "153995fa-aa4f-4642-8219-b44d235ab860",
   "metadata": {},
   "outputs": [
    {
     "data": {
      "text/plain": [
       "array([6., 5.])"
      ]
     },
     "execution_count": 42,
     "metadata": {},
     "output_type": "execute_result"
    }
   ],
   "source": [
    "np.fromstring(\"6 5\",sep=\" \")"
   ]
  },
  {
   "cell_type": "markdown",
   "id": "55e016c2-d041-4a2f-b1c7-670070ab1b96",
   "metadata": {},
   "source": [
    "DATA TYPES IN NUMPY -"
   ]
  },
  {
   "cell_type": "code",
   "execution_count": 44,
   "id": "56bdcb15-d6ce-4010-8ddc-71207cba5740",
   "metadata": {},
   "outputs": [],
   "source": [
    "l=[2,3,4,5,6]"
   ]
  },
  {
   "cell_type": "code",
   "execution_count": 45,
   "id": "a3349ad2-24b5-43de-8595-292f2983927c",
   "metadata": {},
   "outputs": [
    {
     "data": {
      "text/plain": [
       "array([2, 3, 4, 5, 6])"
      ]
     },
     "execution_count": 45,
     "metadata": {},
     "output_type": "execute_result"
    }
   ],
   "source": [
    "np.array(l)"
   ]
  },
  {
   "cell_type": "code",
   "execution_count": 46,
   "id": "f226ce5d-1c57-4fe5-abae-03f0c0b59dd5",
   "metadata": {},
   "outputs": [
    {
     "data": {
      "text/plain": [
       "array([1, 2, 3, 4, 5, 6])"
      ]
     },
     "execution_count": 46,
     "metadata": {},
     "output_type": "execute_result"
    }
   ],
   "source": [
    "ar"
   ]
  },
  {
   "cell_type": "code",
   "execution_count": 47,
   "id": "b324a39e-237c-47c9-a9c4-a2ce1a5d1423",
   "metadata": {},
   "outputs": [
    {
     "data": {
      "text/plain": [
       "1"
      ]
     },
     "execution_count": 47,
     "metadata": {},
     "output_type": "execute_result"
    }
   ],
   "source": [
    "# dim ( ) function is used for getting the dimention of array\n",
    "\n",
    "ar.ndim"
   ]
  },
  {
   "cell_type": "code",
   "execution_count": 51,
   "id": "48589340-09ca-4315-bb95-79c35667defa",
   "metadata": {},
   "outputs": [],
   "source": [
    "ar2=np.array([[2,3,6,5],[4,7,8,9]])"
   ]
  },
  {
   "cell_type": "code",
   "execution_count": 52,
   "id": "cfe1c766-eef4-490a-9b7f-916095f969a1",
   "metadata": {},
   "outputs": [
    {
     "data": {
      "text/plain": [
       "array([[2, 3, 6, 5],\n",
       "       [4, 7, 8, 9]])"
      ]
     },
     "execution_count": 52,
     "metadata": {},
     "output_type": "execute_result"
    }
   ],
   "source": [
    "ar2"
   ]
  },
  {
   "cell_type": "code",
   "execution_count": 53,
   "id": "45c4518f-7e81-4e4b-9d45-d88ac48cd16c",
   "metadata": {},
   "outputs": [
    {
     "data": {
      "text/plain": [
       "2"
      ]
     },
     "execution_count": 53,
     "metadata": {},
     "output_type": "execute_result"
    }
   ],
   "source": [
    "ar2.ndim"
   ]
  },
  {
   "cell_type": "code",
   "execution_count": 54,
   "id": "9987e7f5-645d-4eb7-8ec8-64d53f8e586c",
   "metadata": {},
   "outputs": [
    {
     "data": {
      "text/plain": [
       "8"
      ]
     },
     "execution_count": 54,
     "metadata": {},
     "output_type": "execute_result"
    }
   ],
   "source": [
    "ar2.size"
   ]
  },
  {
   "cell_type": "code",
   "execution_count": 55,
   "id": "bb5e1131-f633-4770-808f-9e2d9ac464dc",
   "metadata": {},
   "outputs": [
    {
     "data": {
      "text/plain": [
       "(2, 4)"
      ]
     },
     "execution_count": 55,
     "metadata": {},
     "output_type": "execute_result"
    }
   ],
   "source": [
    "# Note - 2,4 represent 2 rows and 4 columns\n",
    "\n",
    "ar2.shape"
   ]
  },
  {
   "cell_type": "code",
   "execution_count": 58,
   "id": "b35fc595-cde1-435d-9e99-e205833be17c",
   "metadata": {},
   "outputs": [
    {
     "data": {
      "text/plain": [
       "dtype('int64')"
      ]
     },
     "execution_count": 58,
     "metadata": {},
     "output_type": "execute_result"
    }
   ],
   "source": [
    "ar2.dtype"
   ]
  },
  {
   "cell_type": "code",
   "execution_count": 60,
   "id": "6bd6069d-5d87-438a-9d22-2f0441f6d64c",
   "metadata": {},
   "outputs": [],
   "source": [
    "ar22=np.array([(52,4.5,22,6.4),(10,34,1.9,2)])"
   ]
  },
  {
   "cell_type": "code",
   "execution_count": 61,
   "id": "a9225d3e-ca5d-4102-a4da-860b6883e12a",
   "metadata": {},
   "outputs": [
    {
     "data": {
      "text/plain": [
       "array([[52. ,  4.5, 22. ,  6.4],\n",
       "       [10. , 34. ,  1.9,  2. ]])"
      ]
     },
     "execution_count": 61,
     "metadata": {},
     "output_type": "execute_result"
    }
   ],
   "source": [
    "ar22"
   ]
  },
  {
   "cell_type": "code",
   "execution_count": 62,
   "id": "7754aab1-2de4-410d-89d8-9fdd12e2061b",
   "metadata": {},
   "outputs": [
    {
     "data": {
      "text/plain": [
       "dtype('float64')"
      ]
     },
     "execution_count": 62,
     "metadata": {},
     "output_type": "execute_result"
    }
   ],
   "source": [
    "ar22.dtype"
   ]
  },
  {
   "cell_type": "code",
   "execution_count": 63,
   "id": "b3806df3-42d8-41bf-b9df-7c6b0bb2dd44",
   "metadata": {},
   "outputs": [
    {
     "data": {
      "text/plain": [
       "range(0, 5)"
      ]
     },
     "execution_count": 63,
     "metadata": {},
     "output_type": "execute_result"
    }
   ],
   "source": [
    "range(5)"
   ]
  },
  {
   "cell_type": "code",
   "execution_count": 64,
   "id": "3eff9e16-097d-441e-bb1a-89f7fba428ac",
   "metadata": {},
   "outputs": [
    {
     "data": {
      "text/plain": [
       "[0, 1, 2, 3, 4]"
      ]
     },
     "execution_count": 64,
     "metadata": {},
     "output_type": "execute_result"
    }
   ],
   "source": [
    "list(range(5))"
   ]
  },
  {
   "cell_type": "code",
   "execution_count": 71,
   "id": "78373484-ca24-40cb-9a7e-9d8e86414cc9",
   "metadata": {},
   "outputs": [
    {
     "data": {
      "text/plain": [
       "array([2.3, 2.6, 2.9, 3.2, 3.5, 3.8, 4.1, 4.4, 4.7, 5. , 5.3])"
      ]
     },
     "execution_count": 71,
     "metadata": {},
     "output_type": "execute_result"
    }
   ],
   "source": [
    "np.arange(2.3,5.6,.3)"
   ]
  },
  {
   "cell_type": "code",
   "execution_count": 72,
   "id": "62dc93b8-a168-445a-a49e-26e67736b83a",
   "metadata": {},
   "outputs": [
    {
     "data": {
      "text/plain": [
       "[2.3,\n",
       " 2.5999999999999996,\n",
       " 2.8999999999999995,\n",
       " 3.1999999999999993,\n",
       " 3.499999999999999,\n",
       " 3.799999999999999,\n",
       " 4.099999999999999,\n",
       " 4.399999999999999,\n",
       " 4.699999999999998,\n",
       " 4.999999999999998,\n",
       " 5.299999999999998]"
      ]
     },
     "execution_count": 72,
     "metadata": {},
     "output_type": "execute_result"
    }
   ],
   "source": [
    "list(np.arange(2.3,5.6,.3))"
   ]
  },
  {
   "cell_type": "code",
   "execution_count": 73,
   "id": "ac1e17fe-903a-47b7-abc6-8c6667fd9647",
   "metadata": {},
   "outputs": [
    {
     "data": {
      "text/plain": [
       "array([1.        , 1.44444444, 1.88888889, 2.33333333, 2.77777778,\n",
       "       3.22222222, 3.66666667, 4.11111111, 4.55555556, 5.        ])"
      ]
     },
     "execution_count": 73,
     "metadata": {},
     "output_type": "execute_result"
    }
   ],
   "source": [
    "np.linspace(1,5,10)"
   ]
  },
  {
   "cell_type": "code",
   "execution_count": 75,
   "id": "09bb0df8-df7d-4a9b-80b7-68066adb4e0e",
   "metadata": {},
   "outputs": [
    {
     "data": {
      "text/plain": [
       "array([0., 0., 0., 0., 0.])"
      ]
     },
     "execution_count": 75,
     "metadata": {},
     "output_type": "execute_result"
    }
   ],
   "source": [
    "# 1 - Dimentional\n",
    "\n",
    "np.zeros(5)"
   ]
  },
  {
   "cell_type": "code",
   "execution_count": 76,
   "id": "565fe692-4cf8-4ca8-a81e-73a097c4437e",
   "metadata": {},
   "outputs": [
    {
     "data": {
      "text/plain": [
       "array([[0., 0., 0., 0.],\n",
       "       [0., 0., 0., 0.],\n",
       "       [0., 0., 0., 0.]])"
      ]
     },
     "execution_count": 76,
     "metadata": {},
     "output_type": "execute_result"
    }
   ],
   "source": [
    "# 2 - Dimentional\n",
    "\n",
    "np.zeros((3,4))"
   ]
  },
  {
   "cell_type": "code",
   "execution_count": 77,
   "id": "d88606c4-44ff-4b74-9ece-c6d422f63710",
   "metadata": {},
   "outputs": [
    {
     "data": {
      "text/plain": [
       "array([[[0., 0.],\n",
       "        [0., 0.],\n",
       "        [0., 0.],\n",
       "        [0., 0.]],\n",
       "\n",
       "       [[0., 0.],\n",
       "        [0., 0.],\n",
       "        [0., 0.],\n",
       "        [0., 0.]],\n",
       "\n",
       "       [[0., 0.],\n",
       "        [0., 0.],\n",
       "        [0., 0.],\n",
       "        [0., 0.]]])"
      ]
     },
     "execution_count": 77,
     "metadata": {},
     "output_type": "execute_result"
    }
   ],
   "source": [
    "# 3 - Dimentional\n",
    "\n",
    "np.zeros((3,4,2))"
   ]
  },
  {
   "cell_type": "code",
   "execution_count": 79,
   "id": "26d1ed9a-4a39-4da4-992b-c16d94213150",
   "metadata": {},
   "outputs": [
    {
     "data": {
      "text/plain": [
       "array([[[[0., 0., 0., 0., 0.],\n",
       "         [0., 0., 0., 0., 0.]],\n",
       "\n",
       "        [[0., 0., 0., 0., 0.],\n",
       "         [0., 0., 0., 0., 0.]],\n",
       "\n",
       "        [[0., 0., 0., 0., 0.],\n",
       "         [0., 0., 0., 0., 0.]],\n",
       "\n",
       "        [[0., 0., 0., 0., 0.],\n",
       "         [0., 0., 0., 0., 0.]]],\n",
       "\n",
       "\n",
       "       [[[0., 0., 0., 0., 0.],\n",
       "         [0., 0., 0., 0., 0.]],\n",
       "\n",
       "        [[0., 0., 0., 0., 0.],\n",
       "         [0., 0., 0., 0., 0.]],\n",
       "\n",
       "        [[0., 0., 0., 0., 0.],\n",
       "         [0., 0., 0., 0., 0.]],\n",
       "\n",
       "        [[0., 0., 0., 0., 0.],\n",
       "         [0., 0., 0., 0., 0.]]],\n",
       "\n",
       "\n",
       "       [[[0., 0., 0., 0., 0.],\n",
       "         [0., 0., 0., 0., 0.]],\n",
       "\n",
       "        [[0., 0., 0., 0., 0.],\n",
       "         [0., 0., 0., 0., 0.]],\n",
       "\n",
       "        [[0., 0., 0., 0., 0.],\n",
       "         [0., 0., 0., 0., 0.]],\n",
       "\n",
       "        [[0., 0., 0., 0., 0.],\n",
       "         [0., 0., 0., 0., 0.]]]])"
      ]
     },
     "execution_count": 79,
     "metadata": {},
     "output_type": "execute_result"
    }
   ],
   "source": [
    "# 4 - Dimentional\n",
    "\n",
    "np.zeros((3,4,2,5))"
   ]
  },
  {
   "cell_type": "code",
   "execution_count": 80,
   "id": "80411111-e751-4007-98b4-45ca08c21cd6",
   "metadata": {},
   "outputs": [
    {
     "data": {
      "text/plain": [
       "array([1., 1., 1., 1.])"
      ]
     },
     "execution_count": 80,
     "metadata": {},
     "output_type": "execute_result"
    }
   ],
   "source": [
    "np.ones(4)"
   ]
  },
  {
   "cell_type": "code",
   "execution_count": 84,
   "id": "1735b3f0-f23f-4018-ba05-5b3640d845c0",
   "metadata": {},
   "outputs": [],
   "source": [
    "on =np.ones((2,3))"
   ]
  },
  {
   "cell_type": "code",
   "execution_count": 83,
   "id": "8fb73c8f-76ed-4918-895c-7ca8484189b6",
   "metadata": {},
   "outputs": [
    {
     "data": {
      "text/plain": [
       "array([[[1., 1.],\n",
       "        [1., 1.],\n",
       "        [1., 1.]],\n",
       "\n",
       "       [[1., 1.],\n",
       "        [1., 1.],\n",
       "        [1., 1.]]])"
      ]
     },
     "execution_count": 83,
     "metadata": {},
     "output_type": "execute_result"
    }
   ],
   "source": [
    "np.ones((2,3,2))"
   ]
  },
  {
   "cell_type": "code",
   "execution_count": 85,
   "id": "2b53ad62-98dd-4129-9caf-7e37fa2ada8e",
   "metadata": {},
   "outputs": [
    {
     "data": {
      "text/plain": [
       "array([[6., 6., 6.],\n",
       "       [6., 6., 6.]])"
      ]
     },
     "execution_count": 85,
     "metadata": {},
     "output_type": "execute_result"
    }
   ],
   "source": [
    "on + 5"
   ]
  },
  {
   "cell_type": "code",
   "execution_count": 86,
   "id": "ad2bad65-009d-44ef-91e7-05b13d01b8e6",
   "metadata": {},
   "outputs": [
    {
     "data": {
      "text/plain": [
       "array([[4., 4., 4.],\n",
       "       [4., 4., 4.]])"
      ]
     },
     "execution_count": 86,
     "metadata": {},
     "output_type": "execute_result"
    }
   ],
   "source": [
    "on*4"
   ]
  },
  {
   "cell_type": "code",
   "execution_count": 87,
   "id": "005495cb-2b66-4a51-8cb3-1a14ac674c27",
   "metadata": {},
   "outputs": [
    {
     "data": {
      "text/plain": [
       "array([[0., 0., 0., 0., 0.],\n",
       "       [0., 0., 0., 0., 0.],\n",
       "       [0., 0., 0., 0., 0.]])"
      ]
     },
     "execution_count": 87,
     "metadata": {},
     "output_type": "execute_result"
    }
   ],
   "source": [
    "np.empty((3,5))"
   ]
  },
  {
   "cell_type": "code",
   "execution_count": 88,
   "id": "45c345d0-2810-44e5-9692-f7b2fbab6b5a",
   "metadata": {},
   "outputs": [
    {
     "data": {
      "text/plain": [
       "array([[1., 0., 0., 0.],\n",
       "       [0., 1., 0., 0.],\n",
       "       [0., 0., 1., 0.],\n",
       "       [0., 0., 0., 1.]])"
      ]
     },
     "execution_count": 88,
     "metadata": {},
     "output_type": "execute_result"
    }
   ],
   "source": [
    "# eye ( ) function is used for makung identity matrix in which we the 1 in the diogonal of matrix\n",
    "\n",
    "np.eye(4)"
   ]
  },
  {
   "cell_type": "code",
   "execution_count": 89,
   "id": "5ff287c8-2a25-4bde-85e1-0f5ddab7267b",
   "metadata": {},
   "outputs": [
    {
     "data": {
      "text/plain": [
       "array([2.        , 2.10526316, 2.21052632, 2.31578947, 2.42105263,\n",
       "       2.52631579, 2.63157895, 2.73684211, 2.84210526, 2.94736842,\n",
       "       3.05263158, 3.15789474, 3.26315789, 3.36842105, 3.47368421,\n",
       "       3.57894737, 3.68421053, 3.78947368, 3.89473684, 4.        ])"
      ]
     },
     "execution_count": 89,
     "metadata": {},
     "output_type": "execute_result"
    }
   ],
   "source": [
    "np.linspace(2,4,20)"
   ]
  },
  {
   "cell_type": "code",
   "execution_count": 90,
   "id": "6b81f98c-da6a-40ca-860f-d64efa8fd002",
   "metadata": {},
   "outputs": [
    {
     "data": {
      "text/plain": [
       "array([   100.        ,    143.84498883,    206.91380811,    297.63514416,\n",
       "          428.13323987,    615.84821107,    885.86679041,   1274.2749857 ,\n",
       "         1832.98071083,   2636.65089873,   3792.69019073,   5455.59478117,\n",
       "         7847.59970351,  11288.37891685,  16237.76739189,  23357.2146909 ,\n",
       "        33598.18286284,  48329.30238572,  69519.27961776, 100000.        ])"
      ]
     },
     "execution_count": 90,
     "metadata": {},
     "output_type": "execute_result"
    }
   ],
   "source": [
    "np.logspace(2,5,20)"
   ]
  },
  {
   "cell_type": "code",
   "execution_count": 91,
   "id": "70d74983-4345-4952-a805-c0cb0df96ae8",
   "metadata": {},
   "outputs": [
    {
     "data": {
      "text/plain": [
       "array([ 4.        ,  4.46263167,  4.97877036,  5.55460457,  6.19703857,\n",
       "        6.91377515,  7.71340798,  8.60552469,  9.60082176, 10.71123281,\n",
       "       11.95007169, 13.3321921 , 14.87416568, 16.59448071, 18.5137638 ,\n",
       "       20.65502717, 23.0439446 , 25.70915925, 28.68262708, 32.        ])"
      ]
     },
     "execution_count": 91,
     "metadata": {},
     "output_type": "execute_result"
    }
   ],
   "source": [
    "np.logspace(2,5,20,base = 2)"
   ]
  },
  {
   "cell_type": "code",
   "execution_count": 92,
   "id": "c8f56f86-a3ac-4171-8c0e-480382657fa5",
   "metadata": {},
   "outputs": [],
   "source": [
    "# MOST USED FUNCTIONS OF NUMPY FOR MACHINE LEARNING"
   ]
  },
  {
   "cell_type": "code",
   "execution_count": 93,
   "id": "baed839f-5bd9-43a6-9d4b-9b159f9ab916",
   "metadata": {},
   "outputs": [
    {
     "data": {
      "text/plain": [
       "array([[ 0.38511381,  1.34047131,  0.02756226,  0.23338492],\n",
       "       [ 0.09171129, -0.2927657 , -1.15867637, -0.31957988],\n",
       "       [-1.20810435, -0.16189658, -0.52516483,  0.42808922]])"
      ]
     },
     "execution_count": 93,
     "metadata": {},
     "output_type": "execute_result"
    }
   ],
   "source": [
    "# STEP 1 - GENERATE THE RANDOM DATA\n",
    "\n",
    "# This is how we generate the random data\n",
    "\n",
    "# .random.randn ( ) function is used for genreating the random data\n",
    "\n",
    "np.random.randn(3,4)"
   ]
  },
  {
   "cell_type": "code",
   "execution_count": 94,
   "id": "ea832d0e-af3b-4415-9b43-39f31dbde9e7",
   "metadata": {},
   "outputs": [],
   "source": [
    "# STEP 2 - STORE THE DATA IN VARIABLE\n",
    "\n",
    "arr=np.random.randn(3,4)"
   ]
  },
  {
   "cell_type": "code",
   "execution_count": 95,
   "id": "b32b88b2-0883-4b3f-8d68-78271fb882a9",
   "metadata": {},
   "outputs": [],
   "source": [
    "# STEP 3 - IMPORT THE PANDAS FOR CONVERTING RANDOM DATA INTO THE DATA FRAME\n",
    "\n",
    "import pandas as pd"
   ]
  },
  {
   "cell_type": "code",
   "execution_count": 96,
   "id": "df9643ef-dbe9-4d63-9ecb-f3086b472456",
   "metadata": {},
   "outputs": [
    {
     "data": {
      "text/html": [
       "<div>\n",
       "<style scoped>\n",
       "    .dataframe tbody tr th:only-of-type {\n",
       "        vertical-align: middle;\n",
       "    }\n",
       "\n",
       "    .dataframe tbody tr th {\n",
       "        vertical-align: top;\n",
       "    }\n",
       "\n",
       "    .dataframe thead th {\n",
       "        text-align: right;\n",
       "    }\n",
       "</style>\n",
       "<table border=\"1\" class=\"dataframe\">\n",
       "  <thead>\n",
       "    <tr style=\"text-align: right;\">\n",
       "      <th></th>\n",
       "      <th>0</th>\n",
       "      <th>1</th>\n",
       "      <th>2</th>\n",
       "      <th>3</th>\n",
       "    </tr>\n",
       "  </thead>\n",
       "  <tbody>\n",
       "    <tr>\n",
       "      <th>0</th>\n",
       "      <td>1.322910</td>\n",
       "      <td>1.680960</td>\n",
       "      <td>0.975839</td>\n",
       "      <td>-1.517264</td>\n",
       "    </tr>\n",
       "    <tr>\n",
       "      <th>1</th>\n",
       "      <td>-0.289448</td>\n",
       "      <td>2.404372</td>\n",
       "      <td>-1.034109</td>\n",
       "      <td>1.431583</td>\n",
       "    </tr>\n",
       "    <tr>\n",
       "      <th>2</th>\n",
       "      <td>0.200658</td>\n",
       "      <td>-0.028301</td>\n",
       "      <td>1.397539</td>\n",
       "      <td>-0.050462</td>\n",
       "    </tr>\n",
       "  </tbody>\n",
       "</table>\n",
       "</div>"
      ],
      "text/plain": [
       "          0         1         2         3\n",
       "0  1.322910  1.680960  0.975839 -1.517264\n",
       "1 -0.289448  2.404372 -1.034109  1.431583\n",
       "2  0.200658 -0.028301  1.397539 -0.050462"
      ]
     },
     "execution_count": 96,
     "metadata": {},
     "output_type": "execute_result"
    }
   ],
   "source": [
    "# STEP 4 - THIS IS HOW WE CONVERT RANDOM DATA INTO DATA FRAME\n",
    "\n",
    "# .DATAFRAME ( ) FUNCTION IS USED FOR CONVERTION ANY DATASET INTO THE DATA FRAME\n",
    "\n",
    "pd.DataFrame(arr)"
   ]
  },
  {
   "cell_type": "code",
   "execution_count": 97,
   "id": "18007ee6-87f1-42c3-b5bf-7792bceeb5a6",
   "metadata": {},
   "outputs": [
    {
     "data": {
      "text/plain": [
       "array([[0.19892687, 0.93422698, 0.16482709, 0.19032771],\n",
       "       [0.36050143, 0.41450434, 0.2503462 , 0.57563516],\n",
       "       [0.16423318, 0.47914752, 0.25057244, 0.16902285]])"
      ]
     },
     "execution_count": 97,
     "metadata": {},
     "output_type": "execute_result"
    }
   ],
   "source": [
    "# This is another way to generate the random data\n",
    "\n",
    "# .random.rand ( ) function is used for generating the random data\n",
    "\n",
    "np.random.rand(3,4)"
   ]
  },
  {
   "cell_type": "code",
   "execution_count": 99,
   "id": "180e4a6a-0599-465a-bb68-4587db1b077f",
   "metadata": {},
   "outputs": [
    {
     "data": {
      "text/plain": [
       "array([[ 91,  48, 101,  32],\n",
       "       [ 28,   8,  12,  24],\n",
       "       [ 83,  36,  48,  62]])"
      ]
     },
     "execution_count": 99,
     "metadata": {},
     "output_type": "execute_result"
    }
   ],
   "source": [
    "# .random.randint is used for generating random data by passing the range\n",
    "\n",
    "# Here we we pass the 1-100 and the matrix that we want is 3X4 which means 3 rows and 4 columns\n",
    "\n",
    "np.random.randint(1,110,(3,4))"
   ]
  },
  {
   "cell_type": "code",
   "execution_count": 117,
   "id": "f1ce4618-5b12-4bf4-bb41-296626724fa7",
   "metadata": {},
   "outputs": [
    {
     "data": {
      "text/plain": [
       "array([[ 19,  47,  49, ...,  76,  94,  73],\n",
       "       [ 62,  43,  84, ...,  78,  60, 100],\n",
       "       [ 84,   5,  21, ...,  75,  36,  38],\n",
       "       ...,\n",
       "       [ 50,  36,  92, ..., 103,  88,  35],\n",
       "       [ 78,  99,  18, ...,  40,  88, 106],\n",
       "       [ 64,  87,  43, ..., 108,  53,  19]])"
      ]
     },
     "execution_count": 117,
     "metadata": {},
     "output_type": "execute_result"
    }
   ],
   "source": [
    "np.random.randint(1,110,(300,400))"
   ]
  },
  {
   "cell_type": "code",
   "execution_count": 118,
   "id": "782ab100-bdad-4abf-8199-f389f3fc33a5",
   "metadata": {},
   "outputs": [
    {
     "data": {
      "text/html": [
       "<div>\n",
       "<style scoped>\n",
       "    .dataframe tbody tr th:only-of-type {\n",
       "        vertical-align: middle;\n",
       "    }\n",
       "\n",
       "    .dataframe tbody tr th {\n",
       "        vertical-align: top;\n",
       "    }\n",
       "\n",
       "    .dataframe thead th {\n",
       "        text-align: right;\n",
       "    }\n",
       "</style>\n",
       "<table border=\"1\" class=\"dataframe\">\n",
       "  <thead>\n",
       "    <tr style=\"text-align: right;\">\n",
       "      <th></th>\n",
       "      <th>0</th>\n",
       "      <th>1</th>\n",
       "      <th>2</th>\n",
       "      <th>3</th>\n",
       "      <th>4</th>\n",
       "      <th>5</th>\n",
       "      <th>6</th>\n",
       "      <th>7</th>\n",
       "      <th>8</th>\n",
       "      <th>9</th>\n",
       "      <th>...</th>\n",
       "      <th>390</th>\n",
       "      <th>391</th>\n",
       "      <th>392</th>\n",
       "      <th>393</th>\n",
       "      <th>394</th>\n",
       "      <th>395</th>\n",
       "      <th>396</th>\n",
       "      <th>397</th>\n",
       "      <th>398</th>\n",
       "      <th>399</th>\n",
       "    </tr>\n",
       "  </thead>\n",
       "  <tbody>\n",
       "    <tr>\n",
       "      <th>0</th>\n",
       "      <td>39</td>\n",
       "      <td>92</td>\n",
       "      <td>103</td>\n",
       "      <td>108</td>\n",
       "      <td>71</td>\n",
       "      <td>78</td>\n",
       "      <td>9</td>\n",
       "      <td>30</td>\n",
       "      <td>27</td>\n",
       "      <td>86</td>\n",
       "      <td>...</td>\n",
       "      <td>23</td>\n",
       "      <td>51</td>\n",
       "      <td>17</td>\n",
       "      <td>43</td>\n",
       "      <td>39</td>\n",
       "      <td>36</td>\n",
       "      <td>83</td>\n",
       "      <td>69</td>\n",
       "      <td>100</td>\n",
       "      <td>70</td>\n",
       "    </tr>\n",
       "    <tr>\n",
       "      <th>1</th>\n",
       "      <td>46</td>\n",
       "      <td>84</td>\n",
       "      <td>48</td>\n",
       "      <td>74</td>\n",
       "      <td>47</td>\n",
       "      <td>102</td>\n",
       "      <td>35</td>\n",
       "      <td>55</td>\n",
       "      <td>102</td>\n",
       "      <td>77</td>\n",
       "      <td>...</td>\n",
       "      <td>53</td>\n",
       "      <td>11</td>\n",
       "      <td>81</td>\n",
       "      <td>25</td>\n",
       "      <td>59</td>\n",
       "      <td>30</td>\n",
       "      <td>32</td>\n",
       "      <td>48</td>\n",
       "      <td>82</td>\n",
       "      <td>69</td>\n",
       "    </tr>\n",
       "    <tr>\n",
       "      <th>2</th>\n",
       "      <td>62</td>\n",
       "      <td>51</td>\n",
       "      <td>96</td>\n",
       "      <td>67</td>\n",
       "      <td>62</td>\n",
       "      <td>55</td>\n",
       "      <td>81</td>\n",
       "      <td>3</td>\n",
       "      <td>17</td>\n",
       "      <td>7</td>\n",
       "      <td>...</td>\n",
       "      <td>98</td>\n",
       "      <td>107</td>\n",
       "      <td>37</td>\n",
       "      <td>87</td>\n",
       "      <td>102</td>\n",
       "      <td>66</td>\n",
       "      <td>78</td>\n",
       "      <td>91</td>\n",
       "      <td>52</td>\n",
       "      <td>85</td>\n",
       "    </tr>\n",
       "    <tr>\n",
       "      <th>3</th>\n",
       "      <td>102</td>\n",
       "      <td>54</td>\n",
       "      <td>104</td>\n",
       "      <td>12</td>\n",
       "      <td>10</td>\n",
       "      <td>7</td>\n",
       "      <td>1</td>\n",
       "      <td>43</td>\n",
       "      <td>8</td>\n",
       "      <td>87</td>\n",
       "      <td>...</td>\n",
       "      <td>103</td>\n",
       "      <td>4</td>\n",
       "      <td>24</td>\n",
       "      <td>40</td>\n",
       "      <td>42</td>\n",
       "      <td>93</td>\n",
       "      <td>22</td>\n",
       "      <td>103</td>\n",
       "      <td>59</td>\n",
       "      <td>26</td>\n",
       "    </tr>\n",
       "    <tr>\n",
       "      <th>4</th>\n",
       "      <td>50</td>\n",
       "      <td>106</td>\n",
       "      <td>52</td>\n",
       "      <td>106</td>\n",
       "      <td>88</td>\n",
       "      <td>94</td>\n",
       "      <td>46</td>\n",
       "      <td>55</td>\n",
       "      <td>13</td>\n",
       "      <td>82</td>\n",
       "      <td>...</td>\n",
       "      <td>85</td>\n",
       "      <td>28</td>\n",
       "      <td>15</td>\n",
       "      <td>32</td>\n",
       "      <td>29</td>\n",
       "      <td>95</td>\n",
       "      <td>36</td>\n",
       "      <td>77</td>\n",
       "      <td>14</td>\n",
       "      <td>67</td>\n",
       "    </tr>\n",
       "    <tr>\n",
       "      <th>...</th>\n",
       "      <td>...</td>\n",
       "      <td>...</td>\n",
       "      <td>...</td>\n",
       "      <td>...</td>\n",
       "      <td>...</td>\n",
       "      <td>...</td>\n",
       "      <td>...</td>\n",
       "      <td>...</td>\n",
       "      <td>...</td>\n",
       "      <td>...</td>\n",
       "      <td>...</td>\n",
       "      <td>...</td>\n",
       "      <td>...</td>\n",
       "      <td>...</td>\n",
       "      <td>...</td>\n",
       "      <td>...</td>\n",
       "      <td>...</td>\n",
       "      <td>...</td>\n",
       "      <td>...</td>\n",
       "      <td>...</td>\n",
       "      <td>...</td>\n",
       "    </tr>\n",
       "    <tr>\n",
       "      <th>295</th>\n",
       "      <td>40</td>\n",
       "      <td>13</td>\n",
       "      <td>67</td>\n",
       "      <td>99</td>\n",
       "      <td>102</td>\n",
       "      <td>97</td>\n",
       "      <td>76</td>\n",
       "      <td>107</td>\n",
       "      <td>104</td>\n",
       "      <td>17</td>\n",
       "      <td>...</td>\n",
       "      <td>43</td>\n",
       "      <td>26</td>\n",
       "      <td>102</td>\n",
       "      <td>99</td>\n",
       "      <td>90</td>\n",
       "      <td>35</td>\n",
       "      <td>1</td>\n",
       "      <td>107</td>\n",
       "      <td>24</td>\n",
       "      <td>26</td>\n",
       "    </tr>\n",
       "    <tr>\n",
       "      <th>296</th>\n",
       "      <td>73</td>\n",
       "      <td>16</td>\n",
       "      <td>107</td>\n",
       "      <td>84</td>\n",
       "      <td>89</td>\n",
       "      <td>85</td>\n",
       "      <td>75</td>\n",
       "      <td>53</td>\n",
       "      <td>101</td>\n",
       "      <td>62</td>\n",
       "      <td>...</td>\n",
       "      <td>70</td>\n",
       "      <td>65</td>\n",
       "      <td>4</td>\n",
       "      <td>43</td>\n",
       "      <td>22</td>\n",
       "      <td>62</td>\n",
       "      <td>54</td>\n",
       "      <td>51</td>\n",
       "      <td>73</td>\n",
       "      <td>36</td>\n",
       "    </tr>\n",
       "    <tr>\n",
       "      <th>297</th>\n",
       "      <td>3</td>\n",
       "      <td>44</td>\n",
       "      <td>1</td>\n",
       "      <td>60</td>\n",
       "      <td>73</td>\n",
       "      <td>90</td>\n",
       "      <td>51</td>\n",
       "      <td>98</td>\n",
       "      <td>7</td>\n",
       "      <td>96</td>\n",
       "      <td>...</td>\n",
       "      <td>53</td>\n",
       "      <td>79</td>\n",
       "      <td>86</td>\n",
       "      <td>55</td>\n",
       "      <td>20</td>\n",
       "      <td>46</td>\n",
       "      <td>90</td>\n",
       "      <td>40</td>\n",
       "      <td>1</td>\n",
       "      <td>68</td>\n",
       "    </tr>\n",
       "    <tr>\n",
       "      <th>298</th>\n",
       "      <td>66</td>\n",
       "      <td>49</td>\n",
       "      <td>46</td>\n",
       "      <td>25</td>\n",
       "      <td>25</td>\n",
       "      <td>8</td>\n",
       "      <td>35</td>\n",
       "      <td>11</td>\n",
       "      <td>28</td>\n",
       "      <td>60</td>\n",
       "      <td>...</td>\n",
       "      <td>109</td>\n",
       "      <td>77</td>\n",
       "      <td>1</td>\n",
       "      <td>82</td>\n",
       "      <td>49</td>\n",
       "      <td>21</td>\n",
       "      <td>1</td>\n",
       "      <td>26</td>\n",
       "      <td>47</td>\n",
       "      <td>38</td>\n",
       "    </tr>\n",
       "    <tr>\n",
       "      <th>299</th>\n",
       "      <td>29</td>\n",
       "      <td>16</td>\n",
       "      <td>87</td>\n",
       "      <td>14</td>\n",
       "      <td>25</td>\n",
       "      <td>95</td>\n",
       "      <td>54</td>\n",
       "      <td>99</td>\n",
       "      <td>59</td>\n",
       "      <td>56</td>\n",
       "      <td>...</td>\n",
       "      <td>83</td>\n",
       "      <td>73</td>\n",
       "      <td>100</td>\n",
       "      <td>89</td>\n",
       "      <td>95</td>\n",
       "      <td>103</td>\n",
       "      <td>67</td>\n",
       "      <td>53</td>\n",
       "      <td>80</td>\n",
       "      <td>70</td>\n",
       "    </tr>\n",
       "  </tbody>\n",
       "</table>\n",
       "<p>300 rows × 400 columns</p>\n",
       "</div>"
      ],
      "text/plain": [
       "     0    1    2    3    4    5    6    7    8    9    ...  390  391  392  \\\n",
       "0     39   92  103  108   71   78    9   30   27   86  ...   23   51   17   \n",
       "1     46   84   48   74   47  102   35   55  102   77  ...   53   11   81   \n",
       "2     62   51   96   67   62   55   81    3   17    7  ...   98  107   37   \n",
       "3    102   54  104   12   10    7    1   43    8   87  ...  103    4   24   \n",
       "4     50  106   52  106   88   94   46   55   13   82  ...   85   28   15   \n",
       "..   ...  ...  ...  ...  ...  ...  ...  ...  ...  ...  ...  ...  ...  ...   \n",
       "295   40   13   67   99  102   97   76  107  104   17  ...   43   26  102   \n",
       "296   73   16  107   84   89   85   75   53  101   62  ...   70   65    4   \n",
       "297    3   44    1   60   73   90   51   98    7   96  ...   53   79   86   \n",
       "298   66   49   46   25   25    8   35   11   28   60  ...  109   77    1   \n",
       "299   29   16   87   14   25   95   54   99   59   56  ...   83   73  100   \n",
       "\n",
       "     393  394  395  396  397  398  399  \n",
       "0     43   39   36   83   69  100   70  \n",
       "1     25   59   30   32   48   82   69  \n",
       "2     87  102   66   78   91   52   85  \n",
       "3     40   42   93   22  103   59   26  \n",
       "4     32   29   95   36   77   14   67  \n",
       "..   ...  ...  ...  ...  ...  ...  ...  \n",
       "295   99   90   35    1  107   24   26  \n",
       "296   43   22   62   54   51   73   36  \n",
       "297   55   20   46   90   40    1   68  \n",
       "298   82   49   21    1   26   47   38  \n",
       "299   89   95  103   67   53   80   70  \n",
       "\n",
       "[300 rows x 400 columns]"
      ]
     },
     "execution_count": 118,
     "metadata": {},
     "output_type": "execute_result"
    }
   ],
   "source": [
    "# Bu using pandas or its function \" .DataFrame \" we can easily store the data \n",
    "\n",
    "pd.DataFrame(np.random.randint(1,110,(300,400)))"
   ]
  },
  {
   "cell_type": "code",
   "execution_count": 119,
   "id": "ebc5848a-3673-4ee5-8984-d14766737b32",
   "metadata": {},
   "outputs": [],
   "source": [
    "a=pd.DataFrame(np.random.randint(1,110,(300,400)))"
   ]
  },
  {
   "cell_type": "code",
   "execution_count": 122,
   "id": "30e4653f-291b-4b78-8238-054d45ccffc7",
   "metadata": {},
   "outputs": [],
   "source": [
    "a.to_csv(\"Random Data.csv\")"
   ]
  },
  {
   "cell_type": "code",
   "execution_count": 128,
   "id": "88191e91-788d-401c-a999-62e3c7520fa3",
   "metadata": {},
   "outputs": [],
   "source": [
    "a.to_html(\"Random Data.html\")"
   ]
  },
  {
   "cell_type": "code",
   "execution_count": 140,
   "id": "1c77123d-394a-4fd3-81d3-16b4991a9070",
   "metadata": {},
   "outputs": [],
   "source": [
    "# Most used function\n",
    "\n",
    "arr1=arr.reshape(6,2)"
   ]
  },
  {
   "cell_type": "code",
   "execution_count": 141,
   "id": "30caeb45-1a46-4f8d-91c3-7c51e1166da9",
   "metadata": {},
   "outputs": [
    {
     "data": {
      "text/plain": [
       "array([[ 1.32290982,  1.68096031],\n",
       "       [ 0.97583928, -1.51726418],\n",
       "       [-0.28944771,  2.40437225],\n",
       "       [-1.03410895,  1.43158319],\n",
       "       [ 0.20065818, -0.02830124],\n",
       "       [ 1.39753895, -0.05046171]])"
      ]
     },
     "execution_count": 141,
     "metadata": {},
     "output_type": "execute_result"
    }
   ],
   "source": [
    "arr1"
   ]
  },
  {
   "cell_type": "code",
   "execution_count": 142,
   "id": "8268b719-7e51-438b-adf9-5f053e6c4135",
   "metadata": {},
   "outputs": [
    {
     "data": {
      "text/plain": [
       "array([ 0.97583928, -1.51726418])"
      ]
     },
     "execution_count": 142,
     "metadata": {},
     "output_type": "execute_result"
    }
   ],
   "source": [
    "# Indexing\n",
    "\n",
    "arr1[1]"
   ]
  },
  {
   "cell_type": "code",
   "execution_count": 143,
   "id": "5cf387b2-b366-453b-b64c-940f970a24bc",
   "metadata": {},
   "outputs": [
    {
     "data": {
      "text/plain": [
       "-1.517264183314288"
      ]
     },
     "execution_count": 143,
     "metadata": {},
     "output_type": "execute_result"
    }
   ],
   "source": [
    "# SLICING\n",
    "\n",
    "arr1[1][1]"
   ]
  },
  {
   "cell_type": "code",
   "execution_count": 144,
   "id": "0eda7030-7cbf-4d43-99f0-ba832ead8c0a",
   "metadata": {},
   "outputs": [
    {
     "data": {
      "text/plain": [
       "array([[-0.28944771,  2.40437225],\n",
       "       [-1.03410895,  1.43158319],\n",
       "       [ 0.20065818, -0.02830124]])"
      ]
     },
     "execution_count": 144,
     "metadata": {},
     "output_type": "execute_result"
    }
   ],
   "source": [
    "arr1[2:5]"
   ]
  },
  {
   "cell_type": "code",
   "execution_count": 146,
   "id": "5cd5375e-bae0-43a3-b557-a7a26504d22b",
   "metadata": {},
   "outputs": [
    {
     "data": {
      "text/plain": [
       "array([ 2.40437225,  1.43158319, -0.02830124])"
      ]
     },
     "execution_count": 146,
     "metadata": {},
     "output_type": "execute_result"
    }
   ],
   "source": [
    "# Slicing of array\n",
    "\n",
    "arr1[2:5,1]"
   ]
  },
  {
   "cell_type": "code",
   "execution_count": 159,
   "id": "eec2c6b1-9f77-470f-b614-b8522e54259f",
   "metadata": {},
   "outputs": [
    {
     "data": {
      "text/plain": [
       "array([[75, 21, 37, 23, 85],\n",
       "       [71, 77, 99, 13, 85],\n",
       "       [90, 11, 28, 36, 67],\n",
       "       [22, 18, 46, 99, 12],\n",
       "       [32, 94,  8, 36, 24]])"
      ]
     },
     "execution_count": 159,
     "metadata": {},
     "output_type": "execute_result"
    }
   ],
   "source": [
    "np.random.randint(1,100,(5,5))"
   ]
  },
  {
   "cell_type": "code",
   "execution_count": 160,
   "id": "fde6d764-06da-40ca-82d9-d4b98ebbcf32",
   "metadata": {},
   "outputs": [],
   "source": [
    "m=np.random.randint(1,100,(5,5))"
   ]
  },
  {
   "cell_type": "code",
   "execution_count": 161,
   "id": "789f379a-8fb9-48c9-b712-555821a73000",
   "metadata": {},
   "outputs": [],
   "source": [
    "# Now we pull the data that more than 50"
   ]
  },
  {
   "cell_type": "code",
   "execution_count": 162,
   "id": "ca009496-d30c-458d-b161-cf905d9c594c",
   "metadata": {},
   "outputs": [
    {
     "data": {
      "text/plain": [
       "array([84, 93, 98, 83, 92, 95, 53, 84, 95, 95, 73, 72])"
      ]
     },
     "execution_count": 162,
     "metadata": {},
     "output_type": "execute_result"
    }
   ],
   "source": [
    "m[m>50]"
   ]
  },
  {
   "cell_type": "code",
   "execution_count": 163,
   "id": "d94a3d38-de00-4f5f-b08a-9bbbe25feae9",
   "metadata": {},
   "outputs": [
    {
     "data": {
      "text/plain": [
       "array([[84, 34, 46, 44, 17],\n",
       "       [93, 13,  3, 98, 25],\n",
       "       [83, 34, 26, 92, 49],\n",
       "       [95, 29, 53, 84, 25],\n",
       "       [48, 95, 95, 73, 72]])"
      ]
     },
     "execution_count": 163,
     "metadata": {},
     "output_type": "execute_result"
    }
   ],
   "source": [
    "m"
   ]
  },
  {
   "cell_type": "code",
   "execution_count": 168,
   "id": "9e212a13-03e2-494d-bfe4-81279ff62760",
   "metadata": {},
   "outputs": [
    {
     "data": {
      "text/plain": [
       "array([[34, 26],\n",
       "       [29, 53]])"
      ]
     },
     "execution_count": 168,
     "metadata": {},
     "output_type": "execute_result"
    }
   ],
   "source": [
    "# Slicing or indexing is done in a very simple manner\n",
    "\n",
    "m[2:4,[1,2]]"
   ]
  },
  {
   "cell_type": "code",
   "execution_count": 169,
   "id": "6d17c4fb-97ea-4aa6-8b5b-a9304f784f44",
   "metadata": {},
   "outputs": [],
   "source": [
    "# Change or manipulation of data"
   ]
  },
  {
   "cell_type": "code",
   "execution_count": 170,
   "id": "5d7063b2-c66b-47ba-8bfc-d598db36a93f",
   "metadata": {},
   "outputs": [],
   "source": [
    "m[0][0]=500"
   ]
  },
  {
   "cell_type": "code",
   "execution_count": 171,
   "id": "87ca760c-0af4-4840-b74b-508886e91057",
   "metadata": {},
   "outputs": [
    {
     "data": {
      "text/plain": [
       "array([[500,  34,  46,  44,  17],\n",
       "       [ 93,  13,   3,  98,  25],\n",
       "       [ 83,  34,  26,  92,  49],\n",
       "       [ 95,  29,  53,  84,  25],\n",
       "       [ 48,  95,  95,  73,  72]])"
      ]
     },
     "execution_count": 171,
     "metadata": {},
     "output_type": "execute_result"
    }
   ],
   "source": [
    "m"
   ]
  },
  {
   "cell_type": "code",
   "execution_count": 172,
   "id": "69409521-42e0-4e46-a9b4-744168664280",
   "metadata": {},
   "outputs": [],
   "source": [
    "m[2][3]=2500"
   ]
  },
  {
   "cell_type": "code",
   "execution_count": 173,
   "id": "a2518978-722d-49b4-82c2-4183f0540f1e",
   "metadata": {},
   "outputs": [
    {
     "data": {
      "text/plain": [
       "array([[ 500,   34,   46,   44,   17],\n",
       "       [  93,   13,    3,   98,   25],\n",
       "       [  83,   34,   26, 2500,   49],\n",
       "       [  95,   29,   53,   84,   25],\n",
       "       [  48,   95,   95,   73,   72]])"
      ]
     },
     "execution_count": 173,
     "metadata": {},
     "output_type": "execute_result"
    }
   ],
   "source": [
    "m"
   ]
  },
  {
   "cell_type": "markdown",
   "id": "d97eea90-90a1-4985-b936-2727c699d27b",
   "metadata": {},
   "source": [
    "FUNCTIONS INSIDE A ARRAY -"
   ]
  },
  {
   "cell_type": "code",
   "execution_count": 175,
   "id": "a683edd1-aca9-42c1-938f-83f139162e62",
   "metadata": {},
   "outputs": [],
   "source": [
    "arr5=np.random.randint(1,3,(3,3))\n",
    "arr6=np.random.randint(1,3,(3,3))"
   ]
  },
  {
   "cell_type": "code",
   "execution_count": 176,
   "id": "f46f8453-24e9-4380-8f68-16ea486cf3e0",
   "metadata": {},
   "outputs": [
    {
     "data": {
      "text/plain": [
       "array([[1, 2, 2],\n",
       "       [1, 2, 1],\n",
       "       [1, 1, 1]])"
      ]
     },
     "execution_count": 176,
     "metadata": {},
     "output_type": "execute_result"
    }
   ],
   "source": [
    "arr5"
   ]
  },
  {
   "cell_type": "code",
   "execution_count": 177,
   "id": "803f27fc-1c11-4b03-899a-c8a1d2f4b63b",
   "metadata": {},
   "outputs": [
    {
     "data": {
      "text/plain": [
       "array([[2, 2, 2],\n",
       "       [2, 2, 2],\n",
       "       [2, 2, 2]])"
      ]
     },
     "execution_count": 177,
     "metadata": {},
     "output_type": "execute_result"
    }
   ],
   "source": [
    "arr6"
   ]
  },
  {
   "cell_type": "code",
   "execution_count": 178,
   "id": "ea41d0fb-04ee-4617-a7cf-a46733981dc5",
   "metadata": {},
   "outputs": [
    {
     "data": {
      "text/plain": [
       "array([[3, 4, 4],\n",
       "       [3, 4, 3],\n",
       "       [3, 3, 3]])"
      ]
     },
     "execution_count": 178,
     "metadata": {},
     "output_type": "execute_result"
    }
   ],
   "source": [
    "arr5+arr6"
   ]
  },
  {
   "cell_type": "code",
   "execution_count": 179,
   "id": "280c281f-9ec3-4936-b521-ef209ed5d348",
   "metadata": {},
   "outputs": [
    {
     "data": {
      "text/plain": [
       "array([[2, 4, 4],\n",
       "       [2, 4, 2],\n",
       "       [2, 2, 2]])"
      ]
     },
     "execution_count": 179,
     "metadata": {},
     "output_type": "execute_result"
    }
   ],
   "source": [
    "arr5*arr6"
   ]
  },
  {
   "cell_type": "code",
   "execution_count": 180,
   "id": "237d75e5-98c6-40ee-aa57-98cd22d02a83",
   "metadata": {},
   "outputs": [
    {
     "data": {
      "text/plain": [
       "array([[1, 4, 4],\n",
       "       [1, 4, 1],\n",
       "       [1, 1, 1]])"
      ]
     },
     "execution_count": 180,
     "metadata": {},
     "output_type": "execute_result"
    }
   ],
   "source": [
    "arr5**arr6"
   ]
  },
  {
   "cell_type": "code",
   "execution_count": 181,
   "id": "0203a9ac-6976-4a36-b21c-7543e3cb1f9d",
   "metadata": {},
   "outputs": [
    {
     "data": {
      "text/plain": [
       "array([[-1,  0,  0],\n",
       "       [-1,  0, -1],\n",
       "       [-1, -1, -1]])"
      ]
     },
     "execution_count": 181,
     "metadata": {},
     "output_type": "execute_result"
    }
   ],
   "source": [
    "arr5-arr6"
   ]
  },
  {
   "cell_type": "code",
   "execution_count": 182,
   "id": "3a1648e8-aafc-4bdd-8f95-093295f56f8e",
   "metadata": {},
   "outputs": [
    {
     "data": {
      "text/plain": [
       "array([[0.5, 1. , 1. ],\n",
       "       [0.5, 1. , 0.5],\n",
       "       [0.5, 0.5, 0.5]])"
      ]
     },
     "execution_count": 182,
     "metadata": {},
     "output_type": "execute_result"
    }
   ],
   "source": [
    "arr5/arr6"
   ]
  },
  {
   "cell_type": "code",
   "execution_count": 183,
   "id": "53e51822-143b-40a0-9b32-4475fd58c003",
   "metadata": {},
   "outputs": [
    {
     "data": {
      "text/plain": [
       "array([[101, 102, 102],\n",
       "       [101, 102, 101],\n",
       "       [101, 101, 101]])"
      ]
     },
     "execution_count": 183,
     "metadata": {},
     "output_type": "execute_result"
    }
   ],
   "source": [
    "arr5+100"
   ]
  },
  {
   "cell_type": "code",
   "execution_count": 184,
   "id": "f773e61d-c8d9-4eeb-80f6-13c4647db994",
   "metadata": {},
   "outputs": [
    {
     "data": {
      "text/plain": [
       "array([[1, 4, 4],\n",
       "       [1, 4, 1],\n",
       "       [1, 1, 1]])"
      ]
     },
     "execution_count": 184,
     "metadata": {},
     "output_type": "execute_result"
    }
   ],
   "source": [
    "arr5**2"
   ]
  },
  {
   "cell_type": "markdown",
   "id": "c99e395d-90c1-48d0-8f7c-a8a83707f970",
   "metadata": {},
   "source": [
    "BROADCASTING IN NUMPY -"
   ]
  },
  {
   "cell_type": "code",
   "execution_count": 186,
   "id": "04a6b8b2-8d89-408f-92be-e5e897903279",
   "metadata": {},
   "outputs": [],
   "source": [
    "arr=np.zeros((4,4))"
   ]
  },
  {
   "cell_type": "code",
   "execution_count": 187,
   "id": "ad8923b8-ade6-4653-8984-912587fb620f",
   "metadata": {},
   "outputs": [],
   "source": [
    "row=np.array([1,2,3,4])"
   ]
  },
  {
   "cell_type": "code",
   "execution_count": 188,
   "id": "96a60395-497b-4df1-add7-75b194f25007",
   "metadata": {},
   "outputs": [
    {
     "data": {
      "text/plain": [
       "array([[1., 2., 3., 4.],\n",
       "       [1., 2., 3., 4.],\n",
       "       [1., 2., 3., 4.],\n",
       "       [1., 2., 3., 4.]])"
      ]
     },
     "execution_count": 188,
     "metadata": {},
     "output_type": "execute_result"
    }
   ],
   "source": [
    "arr+row"
   ]
  },
  {
   "cell_type": "code",
   "execution_count": 189,
   "id": "ffc2a582-453d-46d8-ae87-39f403633cf0",
   "metadata": {},
   "outputs": [
    {
     "data": {
      "text/plain": [
       "array([1, 2, 3, 4])"
      ]
     },
     "execution_count": 189,
     "metadata": {},
     "output_type": "execute_result"
    }
   ],
   "source": [
    "# T stands for the transpose\n",
    "\n",
    "row.T"
   ]
  },
  {
   "cell_type": "code",
   "execution_count": 192,
   "id": "2d62f14d-eb75-43fa-8f8a-a50e07cce0b2",
   "metadata": {},
   "outputs": [],
   "source": [
    "col=np.array([[1,2,3,4]])"
   ]
  },
  {
   "cell_type": "code",
   "execution_count": 193,
   "id": "71d90af8-2f0b-478d-96f4-6a5c3c5e6a5e",
   "metadata": {},
   "outputs": [
    {
     "data": {
      "text/plain": [
       "array([[1],\n",
       "       [2],\n",
       "       [3],\n",
       "       [4]])"
      ]
     },
     "execution_count": 193,
     "metadata": {},
     "output_type": "execute_result"
    }
   ],
   "source": [
    "# T stands for the transpose\n",
    "\n",
    "col.T"
   ]
  },
  {
   "cell_type": "code",
   "execution_count": 195,
   "id": "ad701f50-0f8f-4000-b5e3-8876088a242a",
   "metadata": {},
   "outputs": [],
   "source": [
    "arr8=np.random.randint(1,4,(3,4))"
   ]
  },
  {
   "cell_type": "code",
   "execution_count": 196,
   "id": "fe4b8f4c-a470-48b0-aaa8-9ba4c4a70069",
   "metadata": {},
   "outputs": [
    {
     "data": {
      "text/plain": [
       "array([[1.73205081, 1.41421356, 1.41421356, 1.73205081],\n",
       "       [1.41421356, 1.        , 1.41421356, 1.        ],\n",
       "       [1.41421356, 1.        , 1.73205081, 1.73205081]])"
      ]
     },
     "execution_count": 196,
     "metadata": {},
     "output_type": "execute_result"
    }
   ],
   "source": [
    "# sqrt ( ) function is used for getting the square\n",
    "\n",
    "np.sqrt(arr8)"
   ]
  },
  {
   "cell_type": "code",
   "execution_count": 198,
   "id": "23c17640-cbf9-416f-a9d9-4a464cb7504f",
   "metadata": {},
   "outputs": [
    {
     "data": {
      "text/plain": [
       "array([[20.08553692,  7.3890561 ,  7.3890561 , 20.08553692],\n",
       "       [ 7.3890561 ,  2.71828183,  7.3890561 ,  2.71828183],\n",
       "       [ 7.3890561 ,  2.71828183, 20.08553692, 20.08553692]])"
      ]
     },
     "execution_count": 198,
     "metadata": {},
     "output_type": "execute_result"
    }
   ],
   "source": [
    "# exp ( ) function is used for getting the exponent of the matrix\n",
    "\n",
    "np.exp(arr8)"
   ]
  },
  {
   "cell_type": "code",
   "execution_count": 200,
   "id": "c3302772-e57b-46dd-9ead-08987857691f",
   "metadata": {},
   "outputs": [
    {
     "data": {
      "text/plain": [
       "array([[0.47712125, 0.30103   , 0.30103   , 0.47712125],\n",
       "       [0.30103   , 0.        , 0.30103   , 0.        ],\n",
       "       [0.30103   , 0.        , 0.47712125, 0.47712125]])"
      ]
     },
     "execution_count": 200,
     "metadata": {},
     "output_type": "execute_result"
    }
   ],
   "source": [
    "# log ( ) function is used for getting the logarithm values of matrix of array\n",
    "\n",
    "np.log10(arr8)"
   ]
  },
  {
   "cell_type": "markdown",
   "id": "645f6d06-f431-4c90-9ff8-aa319faaaf1d",
   "metadata": {},
   "source": [
    "THANK YOU SO MUCH !!\n",
    "\n",
    "YOURS VIRAT TIWARI :)"
   ]
  }
 ],
 "metadata": {
  "kernelspec": {
   "display_name": "Python 3 (ipykernel)",
   "language": "python",
   "name": "python3"
  },
  "language_info": {
   "codemirror_mode": {
    "name": "ipython",
    "version": 3
   },
   "file_extension": ".py",
   "mimetype": "text/x-python",
   "name": "python",
   "nbconvert_exporter": "python",
   "pygments_lexer": "ipython3",
   "version": "3.10.8"
  }
 },
 "nbformat": 4,
 "nbformat_minor": 5
}
