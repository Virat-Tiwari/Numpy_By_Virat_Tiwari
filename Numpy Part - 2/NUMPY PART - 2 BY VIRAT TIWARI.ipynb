{
 "cells": [
  {
   "cell_type": "markdown",
   "id": "4e26075b-4183-4483-af72-6c011c0bf91d",
   "metadata": {},
   "source": [
    "ARRAY MANIPULATION OPERATIONS IN NUMPY -"
   ]
  },
  {
   "cell_type": "code",
   "execution_count": 31,
   "id": "10153a25-33bb-4b47-ad37-3e5692cf0454",
   "metadata": {},
   "outputs": [],
   "source": [
    "import numpy as np"
   ]
  },
  {
   "cell_type": "code",
   "execution_count": 32,
   "id": "e80140d5-edec-42ab-b2a1-e3760a89049e",
   "metadata": {},
   "outputs": [],
   "source": [
    "# np.random.randint ( ) function is used for getting the random data\n",
    "\n",
    "arr=np.random.randint(1,10,(3,4))"
   ]
  },
  {
   "cell_type": "code",
   "execution_count": 33,
   "id": "9294aad8-dc93-417b-ba11-2b607da91d61",
   "metadata": {},
   "outputs": [
    {
     "data": {
      "text/plain": [
       "array([[8, 7, 3, 8],\n",
       "       [9, 4, 6, 2],\n",
       "       [1, 3, 7, 3]])"
      ]
     },
     "execution_count": 33,
     "metadata": {},
     "output_type": "execute_result"
    }
   ],
   "source": [
    "arr"
   ]
  },
  {
   "cell_type": "code",
   "execution_count": 34,
   "id": "8f47ddd8-86a8-4595-bfb6-56163249e087",
   "metadata": {},
   "outputs": [
    {
     "data": {
      "text/plain": [
       "array([[8, 7],\n",
       "       [3, 8],\n",
       "       [9, 4],\n",
       "       [6, 2],\n",
       "       [1, 3],\n",
       "       [7, 3]])"
      ]
     },
     "execution_count": 34,
     "metadata": {},
     "output_type": "execute_result"
    }
   ],
   "source": [
    "# .reshape ( ) function is used for changing the shape of array\n",
    "\n",
    "arr.reshape(6,2)"
   ]
  },
  {
   "cell_type": "code",
   "execution_count": 35,
   "id": "493961dd-ae25-4c7a-82a2-d65d9979d591",
   "metadata": {},
   "outputs": [
    {
     "data": {
      "text/plain": [
       "array([[8, 9, 1],\n",
       "       [7, 4, 3],\n",
       "       [3, 6, 7],\n",
       "       [8, 2, 3]])"
      ]
     },
     "execution_count": 35,
     "metadata": {},
     "output_type": "execute_result"
    }
   ],
   "source": [
    "# T stands for the transpose that rotate the array\n",
    "\n",
    "arr.T"
   ]
  },
  {
   "cell_type": "code",
   "execution_count": 36,
   "id": "71146619-a55d-4ea2-9b55-071a890a48b3",
   "metadata": {},
   "outputs": [
    {
     "data": {
      "text/plain": [
       "array([8, 7, 3, 8, 9, 4, 6, 2, 1, 3, 7, 3])"
      ]
     },
     "execution_count": 36,
     "metadata": {},
     "output_type": "execute_result"
    }
   ],
   "source": [
    "# .flatten ( ) function is used for changing the data into the 1 - dimentional\n",
    "\n",
    "arr.flatten()"
   ]
  },
  {
   "cell_type": "code",
   "execution_count": 37,
   "id": "bd9359d3-f8ff-49d2-bfb7-6d14f4f07cf2",
   "metadata": {},
   "outputs": [],
   "source": [
    "arr1=np.array([1,2,3,4])"
   ]
  },
  {
   "cell_type": "code",
   "execution_count": 38,
   "id": "01a2a47b-02f6-4c9d-802d-7eb8d2a99154",
   "metadata": {},
   "outputs": [
    {
     "data": {
      "text/plain": [
       "1"
      ]
     },
     "execution_count": 38,
     "metadata": {},
     "output_type": "execute_result"
    }
   ],
   "source": [
    "# ndim - no of dimentions shows that the total dimentions carried by a array\n",
    "\n",
    "arr1.ndim"
   ]
  },
  {
   "cell_type": "code",
   "execution_count": 39,
   "id": "ec005213-00a3-417e-8e12-bf4089a8413f",
   "metadata": {},
   "outputs": [
    {
     "data": {
      "text/plain": [
       "array([[1],\n",
       "       [2],\n",
       "       [3],\n",
       "       [4]])"
      ]
     },
     "execution_count": 39,
     "metadata": {},
     "output_type": "execute_result"
    }
   ],
   "source": [
    "# .expand_dims ( ) function is used for expanding the dimention of array\n",
    "\n",
    "np.expand_dims(arr1,axis=1)"
   ]
  },
  {
   "cell_type": "code",
   "execution_count": 40,
   "id": "934135d7-574d-486c-a93b-4b696a037cad",
   "metadata": {},
   "outputs": [
    {
     "data": {
      "text/plain": [
       "array([[1, 2, 3, 4]])"
      ]
     },
     "execution_count": 40,
     "metadata": {},
     "output_type": "execute_result"
    }
   ],
   "source": [
    "np.expand_dims(arr1,axis=0)"
   ]
  },
  {
   "cell_type": "code",
   "execution_count": 41,
   "id": "841ec9a2-d95a-40a3-a29c-fc80b984fa5d",
   "metadata": {},
   "outputs": [
    {
     "data": {
      "text/plain": [
       "array([[8, 7, 3, 8],\n",
       "       [9, 4, 6, 2],\n",
       "       [1, 3, 7, 3]])"
      ]
     },
     "execution_count": 41,
     "metadata": {},
     "output_type": "execute_result"
    }
   ],
   "source": [
    "np.squeeze(arr)"
   ]
  },
  {
   "cell_type": "code",
   "execution_count": 42,
   "id": "c17c526f-1456-41f6-bd07-61b7eaffbcb0",
   "metadata": {},
   "outputs": [],
   "source": [
    "data=np.array([[1],[2],[3]])"
   ]
  },
  {
   "cell_type": "code",
   "execution_count": 43,
   "id": "b6819c29-99e1-455c-8a02-3ec0a28c08c3",
   "metadata": {},
   "outputs": [
    {
     "data": {
      "text/plain": [
       "array([[1],\n",
       "       [2],\n",
       "       [3]])"
      ]
     },
     "execution_count": 43,
     "metadata": {},
     "output_type": "execute_result"
    }
   ],
   "source": [
    "data"
   ]
  },
  {
   "cell_type": "code",
   "execution_count": 44,
   "id": "88900e27-9b68-44c5-a532-c58bab2f91b8",
   "metadata": {},
   "outputs": [
    {
     "data": {
      "text/plain": [
       "array([1, 2, 3])"
      ]
     },
     "execution_count": 44,
     "metadata": {},
     "output_type": "execute_result"
    }
   ],
   "source": [
    "# squeeze ( ) function gives the single dimentional array\n",
    "\n",
    "np.squeeze(data)"
   ]
  },
  {
   "cell_type": "code",
   "execution_count": 45,
   "id": "5eeeac5f-d425-42c1-9fc1-0af7f59797a7",
   "metadata": {},
   "outputs": [
    {
     "data": {
      "text/plain": [
       "array([1, 2, 3, 4])"
      ]
     },
     "execution_count": 45,
     "metadata": {},
     "output_type": "execute_result"
    }
   ],
   "source": [
    "arr1"
   ]
  },
  {
   "cell_type": "code",
   "execution_count": 46,
   "id": "679db4e7-a281-42be-82df-892880953890",
   "metadata": {},
   "outputs": [
    {
     "data": {
      "text/plain": [
       "array([1, 1, 1, 2, 2, 2, 3, 3, 3, 4, 4, 4])"
      ]
     },
     "execution_count": 46,
     "metadata": {},
     "output_type": "execute_result"
    }
   ],
   "source": [
    "# .repeat ( ) function is used when we want to repeat the numbers of array , we simply pass the value that how much time we want to repeat the numbers of array\n",
    "\n",
    "# Here we pass \" 3 \" so all values of array will repeat 3 times\n",
    "\n",
    "np.repeat(arr1,3)"
   ]
  },
  {
   "cell_type": "code",
   "execution_count": 48,
   "id": "827c2132-45d8-4d22-99f7-bd33021c4627",
   "metadata": {},
   "outputs": [
    {
     "data": {
      "text/plain": [
       "array([3, 4, 1, 2])"
      ]
     },
     "execution_count": 48,
     "metadata": {},
     "output_type": "execute_result"
    }
   ],
   "source": [
    "# .roll ( ) function is rotate the no of array\n",
    "\n",
    "np.roll(arr1,2)"
   ]
  },
  {
   "cell_type": "code",
   "execution_count": 50,
   "id": "c8e72f2f-2d48-47d1-acab-c3d34bcfbb05",
   "metadata": {},
   "outputs": [
    {
     "data": {
      "text/plain": [
       "array([[1, 0, 0, 0],\n",
       "       [0, 2, 0, 0],\n",
       "       [0, 0, 3, 0],\n",
       "       [0, 0, 0, 4]])"
      ]
     },
     "execution_count": 50,
     "metadata": {},
     "output_type": "execute_result"
    }
   ],
   "source": [
    "np.diag(arr1)"
   ]
  },
  {
   "cell_type": "markdown",
   "id": "70009600-e1b7-43a7-a059-719d27de1aa5",
   "metadata": {},
   "source": [
    "ARRAY BINARY OPERATIONS IN NUMPY -"
   ]
  },
  {
   "cell_type": "code",
   "execution_count": 51,
   "id": "0883b36c-15f1-417f-8155-c1e4bde2791a",
   "metadata": {},
   "outputs": [],
   "source": [
    "# This is how we generate the random array\n",
    "\n",
    "arr1=np.random.randint(1,10,(3,4))"
   ]
  },
  {
   "cell_type": "code",
   "execution_count": 52,
   "id": "74e6310a-bba0-4e99-97a0-0d7575a3aede",
   "metadata": {},
   "outputs": [],
   "source": [
    "arr2=np.random.randint(1,10,(3,4))"
   ]
  },
  {
   "cell_type": "code",
   "execution_count": 53,
   "id": "a5dcce39-a4d5-43bf-a4e3-379d6b531c78",
   "metadata": {},
   "outputs": [
    {
     "data": {
      "text/plain": [
       "array([[5, 8, 9, 6],\n",
       "       [7, 3, 5, 6],\n",
       "       [1, 2, 5, 6]])"
      ]
     },
     "execution_count": 53,
     "metadata": {},
     "output_type": "execute_result"
    }
   ],
   "source": [
    "arr1"
   ]
  },
  {
   "cell_type": "code",
   "execution_count": 54,
   "id": "95037ce7-ca4f-4147-97f4-062216f8b353",
   "metadata": {},
   "outputs": [
    {
     "data": {
      "text/plain": [
       "array([[2, 6, 8, 4],\n",
       "       [5, 9, 6, 1],\n",
       "       [5, 1, 4, 2]])"
      ]
     },
     "execution_count": 54,
     "metadata": {},
     "output_type": "execute_result"
    }
   ],
   "source": [
    "arr2"
   ]
  },
  {
   "cell_type": "markdown",
   "id": "dfb7dc64-bd6b-4521-b189-35e5d35d2a61",
   "metadata": {},
   "source": [
    "NOTE - BINARY OPERATIONS IS ALL ABOUT PLUS MINUS MULTIPLICATION AND DIVISION"
   ]
  },
  {
   "cell_type": "code",
   "execution_count": 55,
   "id": "e3ebf02c-997a-4217-a95f-6f079750de56",
   "metadata": {},
   "outputs": [
    {
     "data": {
      "text/plain": [
       "array([[ 7, 14, 17, 10],\n",
       "       [12, 12, 11,  7],\n",
       "       [ 6,  3,  9,  8]])"
      ]
     },
     "execution_count": 55,
     "metadata": {},
     "output_type": "execute_result"
    }
   ],
   "source": [
    "# Addition Operation -1\n",
    "\n",
    "arr1+arr2"
   ]
  },
  {
   "cell_type": "code",
   "execution_count": 56,
   "id": "1e1eefc1-1ba2-40d8-929c-1a660f1c825e",
   "metadata": {},
   "outputs": [
    {
     "data": {
      "text/plain": [
       "array([[ 3,  2,  1,  2],\n",
       "       [ 2, -6, -1,  5],\n",
       "       [-4,  1,  1,  4]])"
      ]
     },
     "execution_count": 56,
     "metadata": {},
     "output_type": "execute_result"
    }
   ],
   "source": [
    "# Subtraction Operation - 2\n",
    "\n",
    "arr1-arr2"
   ]
  },
  {
   "cell_type": "code",
   "execution_count": 57,
   "id": "f76a4b1f-bd0b-4945-a269-826eb99db915",
   "metadata": {},
   "outputs": [
    {
     "data": {
      "text/plain": [
       "array([[10, 48, 72, 24],\n",
       "       [35, 27, 30,  6],\n",
       "       [ 5,  2, 20, 12]])"
      ]
     },
     "execution_count": 57,
     "metadata": {},
     "output_type": "execute_result"
    }
   ],
   "source": [
    "# Multiplication Operation - 3\n",
    "\n",
    "arr1*arr2"
   ]
  },
  {
   "cell_type": "code",
   "execution_count": 58,
   "id": "aa07d921-e0f8-43ef-82ca-8d9ca34c780b",
   "metadata": {},
   "outputs": [
    {
     "data": {
      "text/plain": [
       "array([[2.5       , 1.33333333, 1.125     , 1.5       ],\n",
       "       [1.4       , 0.33333333, 0.83333333, 6.        ],\n",
       "       [0.2       , 2.        , 1.25      , 3.        ]])"
      ]
     },
     "execution_count": 58,
     "metadata": {},
     "output_type": "execute_result"
    }
   ],
   "source": [
    "# Division Operation - 4\n",
    "\n",
    "arr1/arr2"
   ]
  },
  {
   "cell_type": "code",
   "execution_count": 59,
   "id": "e5184f90-08a0-4b4b-b949-0316b2239d4c",
   "metadata": {},
   "outputs": [
    {
     "data": {
      "text/plain": [
       "array([[1, 2, 1, 2],\n",
       "       [2, 3, 5, 0],\n",
       "       [1, 0, 1, 0]])"
      ]
     },
     "execution_count": 59,
     "metadata": {},
     "output_type": "execute_result"
    }
   ],
   "source": [
    "# Remainder Operation - 5 \n",
    "\n",
    "arr1%arr2"
   ]
  },
  {
   "cell_type": "code",
   "execution_count": 60,
   "id": "3ea4fa8e-58cb-49d7-995d-2dd78f35cba4",
   "metadata": {},
   "outputs": [
    {
     "data": {
      "text/plain": [
       "array([[      25,   262144, 43046721,     1296],\n",
       "       [   16807,    19683,    15625,        6],\n",
       "       [       1,        2,      625,       36]])"
      ]
     },
     "execution_count": 60,
     "metadata": {},
     "output_type": "execute_result"
    }
   ],
   "source": [
    "# Power Operation - 6 \n",
    "\n",
    "arr1**arr2"
   ]
  },
  {
   "cell_type": "code",
   "execution_count": 61,
   "id": "515d7cdd-8ed3-4745-afd8-ace9badcc409",
   "metadata": {},
   "outputs": [
    {
     "data": {
      "text/plain": [
       "array([[0, 0, 8, 4],\n",
       "       [5, 1, 4, 0],\n",
       "       [1, 0, 4, 2]])"
      ]
     },
     "execution_count": 61,
     "metadata": {},
     "output_type": "execute_result"
    }
   ],
   "source": [
    "# And ( & ) Operation - 7 \n",
    "\n",
    "arr1 & arr2"
   ]
  },
  {
   "cell_type": "code",
   "execution_count": 62,
   "id": "6919196c-41d7-4a97-934c-e610b8937198",
   "metadata": {},
   "outputs": [
    {
     "data": {
      "text/plain": [
       "array([[ 7, 14,  9,  6],\n",
       "       [ 7, 11,  7,  7],\n",
       "       [ 5,  3,  5,  6]])"
      ]
     },
     "execution_count": 62,
     "metadata": {},
     "output_type": "execute_result"
    }
   ],
   "source": [
    "# Or ( | ) Operation - 8 \n",
    "\n",
    "arr1|arr2"
   ]
  },
  {
   "cell_type": "code",
   "execution_count": 64,
   "id": "5b7db8a8-177d-4478-9252-5135497adedd",
   "metadata": {},
   "outputs": [
    {
     "data": {
      "text/plain": [
       "array([[ -6,  -9, -10,  -7],\n",
       "       [ -8,  -4,  -6,  -7],\n",
       "       [ -2,  -3,  -6,  -7]])"
      ]
     },
     "execution_count": 64,
     "metadata": {},
     "output_type": "execute_result"
    }
   ],
   "source": [
    "# Negate Operation - 9\n",
    "\n",
    "~arr1"
   ]
  },
  {
   "cell_type": "code",
   "execution_count": 65,
   "id": "0a2a8f8f-08e2-44f5-8a1e-8547c1868d46",
   "metadata": {},
   "outputs": [
    {
     "data": {
      "text/plain": [
       "array([[ -6,  -9, -10,  -7],\n",
       "       [ -8,  -4,  -6,  -7],\n",
       "       [ -2,  -3,  -6,  -7]])"
      ]
     },
     "execution_count": 65,
     "metadata": {},
     "output_type": "execute_result"
    }
   ],
   "source": [
    "# Negate Operation - 10\n",
    "\n",
    "~arr1"
   ]
  },
  {
   "cell_type": "code",
   "execution_count": 66,
   "id": "ae050c04-7b41-431a-9c07-d934627b7cc0",
   "metadata": {},
   "outputs": [
    {
     "data": {
      "text/plain": [
       "array([[ True,  True,  True,  True],\n",
       "       [ True, False, False,  True],\n",
       "       [False,  True,  True,  True]])"
      ]
     },
     "execution_count": 66,
     "metadata": {},
     "output_type": "execute_result"
    }
   ],
   "source": [
    "# Greater ( > )  Operation - 11\n",
    "\n",
    "arr1>arr2"
   ]
  },
  {
   "cell_type": "code",
   "execution_count": 67,
   "id": "6576bbf1-511c-45c8-aff1-9b9dd2d8ef90",
   "metadata": {},
   "outputs": [
    {
     "data": {
      "text/plain": [
       "array([[False, False, False, False],\n",
       "       [False,  True,  True, False],\n",
       "       [ True, False, False, False]])"
      ]
     },
     "execution_count": 67,
     "metadata": {},
     "output_type": "execute_result"
    }
   ],
   "source": [
    "# Smaller ( < )  Operation - 11\n",
    "\n",
    "arr1<arr2"
   ]
  },
  {
   "cell_type": "markdown",
   "id": "2c6dfea1-d2ec-46e1-accf-bb5660ae3339",
   "metadata": {},
   "source": [
    "STRING FUNCTIONS IN NUMPY -"
   ]
  },
  {
   "cell_type": "code",
   "execution_count": 69,
   "id": "6e0ac35c-1733-4a75-a0d1-0301f97ed69f",
   "metadata": {},
   "outputs": [],
   "source": [
    "# WE made array with the help of .array ( ) function\n",
    "\n",
    "# steps -\n",
    "\n",
    "# 1 - np.array ( )\n",
    "# 2 - pass list [ ] inside the array\n",
    "# 3 - put the the variables whatever we want put inside the list of array\n",
    "\n",
    "arr=np.array([\"Virat\",\"Tiwari\"])"
   ]
  },
  {
   "cell_type": "code",
   "execution_count": 70,
   "id": "474c8711-c58c-490e-bf60-a5e4eef433b3",
   "metadata": {},
   "outputs": [
    {
     "data": {
      "text/plain": [
       "array(['Virat', 'Tiwari'], dtype='<U6')"
      ]
     },
     "execution_count": 70,
     "metadata": {},
     "output_type": "execute_result"
    }
   ],
   "source": [
    "arr"
   ]
  },
  {
   "cell_type": "code",
   "execution_count": 73,
   "id": "73af9b57-0df3-480a-aa0a-dd5fa700cce4",
   "metadata": {},
   "outputs": [
    {
     "data": {
      "text/plain": [
       "array(['VIRAT', 'TIWARI'], dtype='<U6')"
      ]
     },
     "execution_count": 73,
     "metadata": {},
     "output_type": "execute_result"
    }
   ],
   "source": [
    "# .char.upper ( ) function is used for converting the string or characters into the UPPER CASE of array\n",
    "\n",
    "np.char.upper(arr)"
   ]
  },
  {
   "cell_type": "code",
   "execution_count": 74,
   "id": "cbfd6c36-b0ad-480d-ba5f-0db549b59da8",
   "metadata": {},
   "outputs": [
    {
     "data": {
      "text/plain": [
       "array(['Virat', 'Tiwari'], dtype='<U6')"
      ]
     },
     "execution_count": 74,
     "metadata": {},
     "output_type": "execute_result"
    }
   ],
   "source": [
    "# .char.title ( ) function is used for converting string into the title\n",
    "\n",
    "np.char.title(arr)"
   ]
  },
  {
   "cell_type": "code",
   "execution_count": 75,
   "id": "488d2429-417f-44fd-9974-4e22de498c67",
   "metadata": {},
   "outputs": [
    {
     "data": {
      "text/plain": [
       "array(['Virat', 'Tiwari'], dtype='<U6')"
      ]
     },
     "execution_count": 75,
     "metadata": {},
     "output_type": "execute_result"
    }
   ],
   "source": [
    "# .char.capitalize ( ) function is used for capitalize the entire text of array\n",
    "\n",
    "np.char.capitalize(arr)"
   ]
  },
  {
   "cell_type": "markdown",
   "id": "9e99efaa-1500-4fe1-b510-953b91419ef8",
   "metadata": {},
   "source": [
    "MATHEMATICAL FUNCTIONS IN NUMPY -"
   ]
  },
  {
   "cell_type": "code",
   "execution_count": 77,
   "id": "2d8a77a4-dd56-4452-953e-fa39d0fc466c",
   "metadata": {},
   "outputs": [
    {
     "data": {
      "text/plain": [
       "array([[5, 8, 9, 6],\n",
       "       [7, 3, 5, 6],\n",
       "       [1, 2, 5, 6]])"
      ]
     },
     "execution_count": 77,
     "metadata": {},
     "output_type": "execute_result"
    }
   ],
   "source": [
    "arr1"
   ]
  },
  {
   "cell_type": "code",
   "execution_count": 78,
   "id": "6ed25dcc-5b37-466d-a4cd-2ed6cc014c86",
   "metadata": {},
   "outputs": [
    {
     "data": {
      "text/plain": [
       "array([[-0.95892427,  0.98935825,  0.41211849, -0.2794155 ],\n",
       "       [ 0.6569866 ,  0.14112001, -0.95892427, -0.2794155 ],\n",
       "       [ 0.84147098,  0.90929743, -0.95892427, -0.2794155 ]])"
      ]
     },
     "execution_count": 78,
     "metadata": {},
     "output_type": "execute_result"
    }
   ],
   "source": [
    "# TRIGONOMETRIC OPERATIONS\n",
    "\n",
    "# This is how we find SIN , COS , TAN , TANH and many more trigometry functions  \n",
    "\n",
    "np.sin(arr1)"
   ]
  },
  {
   "cell_type": "code",
   "execution_count": 79,
   "id": "6097bcdf-5b6a-4eba-9bd1-80d39b1856c8",
   "metadata": {},
   "outputs": [
    {
     "data": {
      "text/plain": [
       "array([[ 0.28366219, -0.14550003, -0.91113026,  0.96017029],\n",
       "       [ 0.75390225, -0.9899925 ,  0.28366219,  0.96017029],\n",
       "       [ 0.54030231, -0.41614684,  0.28366219,  0.96017029]])"
      ]
     },
     "execution_count": 79,
     "metadata": {},
     "output_type": "execute_result"
    }
   ],
   "source": [
    "# TRIGONOMETRIC OPERATIONS\n",
    "\n",
    "# This is how we find SIN , COS , TAN , TANH and many more trigometry functions  \n",
    "\n",
    "\n",
    "np.cos(arr1)"
   ]
  },
  {
   "cell_type": "code",
   "execution_count": 80,
   "id": "1b96eca1-a7ab-4001-853f-2c57db7e4abb",
   "metadata": {},
   "outputs": [
    {
     "data": {
      "text/plain": [
       "array([[-3.38051501, -6.79971146, -0.45231566, -0.29100619],\n",
       "       [ 0.87144798, -0.14254654, -3.38051501, -0.29100619],\n",
       "       [ 1.55740772, -2.18503986, -3.38051501, -0.29100619]])"
      ]
     },
     "execution_count": 80,
     "metadata": {},
     "output_type": "execute_result"
    }
   ],
   "source": [
    "# TRIGONOMETRIC OPERATIONS\n",
    "\n",
    "# This is how we find SIN , COS , TAN , TANH and many more trigometry functions  \n",
    "\n",
    "\n",
    "\n",
    "np.tan(arr1)"
   ]
  },
  {
   "cell_type": "code",
   "execution_count": 81,
   "id": "720d8533-4206-43a4-a50b-ff2210a895d2",
   "metadata": {},
   "outputs": [
    {
     "data": {
      "text/plain": [
       "array([[0.9999092 , 0.99999977, 0.99999997, 0.99998771],\n",
       "       [0.99999834, 0.99505475, 0.9999092 , 0.99998771],\n",
       "       [0.76159416, 0.96402758, 0.9999092 , 0.99998771]])"
      ]
     },
     "execution_count": 81,
     "metadata": {},
     "output_type": "execute_result"
    }
   ],
   "source": [
    "# TRIGONOMETRIC OPERATIONS\n",
    "\n",
    "# This is how we find SIN , COS , TAN , TANH and many more trigometry functions  \n",
    "\n",
    "\n",
    "\n",
    "np.tanh(arr1)"
   ]
  },
  {
   "cell_type": "code",
   "execution_count": 82,
   "id": "ff4291ae-5ef3-4bd5-82af-9ba0a381172c",
   "metadata": {},
   "outputs": [
    {
     "data": {
      "text/plain": [
       "array([[0.69897   , 0.90308999, 0.95424251, 0.77815125],\n",
       "       [0.84509804, 0.47712125, 0.69897   , 0.77815125],\n",
       "       [0.        , 0.30103   , 0.69897   , 0.77815125]])"
      ]
     },
     "execution_count": 82,
     "metadata": {},
     "output_type": "execute_result"
    }
   ],
   "source": [
    "# Used foe getting the logarithm of array\n",
    "\n",
    "np.log10(arr1)"
   ]
  },
  {
   "cell_type": "code",
   "execution_count": 83,
   "id": "50e6a037-532b-4757-96aa-b46824302948",
   "metadata": {},
   "outputs": [
    {
     "data": {
      "text/plain": [
       "array([[1.48413159e+02, 2.98095799e+03, 8.10308393e+03, 4.03428793e+02],\n",
       "       [1.09663316e+03, 2.00855369e+01, 1.48413159e+02, 4.03428793e+02],\n",
       "       [2.71828183e+00, 7.38905610e+00, 1.48413159e+02, 4.03428793e+02]])"
      ]
     },
     "execution_count": 83,
     "metadata": {},
     "output_type": "execute_result"
    }
   ],
   "source": [
    "# Used for getting the exponential of array\n",
    "\n",
    "np.exp(arr1)"
   ]
  },
  {
   "cell_type": "code",
   "execution_count": 85,
   "id": "46e3c487-9784-4782-a8ce-b896ed7db56a",
   "metadata": {},
   "outputs": [
    {
     "data": {
      "text/plain": [
       "array([[2.23606798, 2.82842712, 3.        , 2.44948974],\n",
       "       [2.64575131, 1.73205081, 2.23606798, 2.44948974],\n",
       "       [1.        , 1.41421356, 2.23606798, 2.44948974]])"
      ]
     },
     "execution_count": 85,
     "metadata": {},
     "output_type": "execute_result"
    }
   ],
   "source": [
    "# Used foe getting the square root of array \n",
    "\n",
    "#sqrt = square root\n",
    "\n",
    "np.sqrt(arr1)"
   ]
  },
  {
   "cell_type": "code",
   "execution_count": 87,
   "id": "28fae0f6-7bd9-4130-8d29-466bfaabecd6",
   "metadata": {},
   "outputs": [
    {
     "data": {
      "text/plain": [
       "array([[25, 64, 81, 36],\n",
       "       [49,  9, 25, 36],\n",
       "       [ 1,  4, 25, 36]])"
      ]
     },
     "execution_count": 87,
     "metadata": {},
     "output_type": "execute_result"
    }
   ],
   "source": [
    "# Used for getting power of array by passing the like power of 2 ,3 etc\n",
    "\n",
    "np.power(arr1,2)"
   ]
  },
  {
   "cell_type": "code",
   "execution_count": 88,
   "id": "fc12e5c3-377b-46e0-aebd-f3521d781e17",
   "metadata": {},
   "outputs": [
    {
     "data": {
      "text/plain": [
       "5.25"
      ]
     },
     "execution_count": 88,
     "metadata": {},
     "output_type": "execute_result"
    }
   ],
   "source": [
    "# used foe getting mean or average of array\n",
    "\n",
    "np.mean(arr1)"
   ]
  },
  {
   "cell_type": "code",
   "execution_count": 90,
   "id": "da2fc5dd-ab25-4607-bb63-e51ed9392abe",
   "metadata": {},
   "outputs": [
    {
     "data": {
      "text/plain": [
       "5.5"
      ]
     },
     "execution_count": 90,
     "metadata": {},
     "output_type": "execute_result"
    }
   ],
   "source": [
    "# Used foe getting median of array\n",
    "\n",
    "np.median(arr1)"
   ]
  },
  {
   "cell_type": "code",
   "execution_count": 91,
   "id": "37e9744c-653c-43d8-89d6-f9975c8412f1",
   "metadata": {},
   "outputs": [
    {
     "data": {
      "text/plain": [
       "2.2407216099581255"
      ]
     },
     "execution_count": 91,
     "metadata": {},
     "output_type": "execute_result"
    }
   ],
   "source": [
    "# Used for getting standard deviation of array\n",
    "\n",
    "np.std(arr1)"
   ]
  },
  {
   "cell_type": "code",
   "execution_count": 92,
   "id": "b04e1ee4-6950-4b34-ac87-6f62066101a2",
   "metadata": {},
   "outputs": [
    {
     "data": {
      "text/plain": [
       "5.020833333333333"
      ]
     },
     "execution_count": 92,
     "metadata": {},
     "output_type": "execute_result"
    }
   ],
   "source": [
    "# Used foe getting variance of array\n",
    "\n",
    "np.var(arr1)"
   ]
  },
  {
   "cell_type": "code",
   "execution_count": 93,
   "id": "d01c4a3c-60ec-4d08-8afd-f83addd8a648",
   "metadata": {},
   "outputs": [
    {
     "data": {
      "text/plain": [
       "1"
      ]
     },
     "execution_count": 93,
     "metadata": {},
     "output_type": "execute_result"
    }
   ],
   "source": [
    "# Used foe getting min value\n",
    "\n",
    "np.min(arr1)"
   ]
  },
  {
   "cell_type": "code",
   "execution_count": 94,
   "id": "1edd5e15-a072-470d-98ce-91c6db4da2ee",
   "metadata": {},
   "outputs": [
    {
     "data": {
      "text/plain": [
       "9"
      ]
     },
     "execution_count": 94,
     "metadata": {},
     "output_type": "execute_result"
    }
   ],
   "source": [
    "# Used For getting max value\n",
    "\n",
    "np.max(arr1)"
   ]
  },
  {
   "cell_type": "markdown",
   "id": "0b26a534-a63f-4c14-b9e8-398599ccee5e",
   "metadata": {},
   "source": [
    "NOTE - NUMPY CAN SOLVE WIDELY USED MATHEMATICAL PROBLEMS VERY EASILY"
   ]
  },
  {
   "cell_type": "markdown",
   "id": "bc680155-eb66-4e8f-bbe3-3f8f300e69c3",
   "metadata": {},
   "source": [
    "THANK YOU SO MUCH !!\n",
    "\n",
    "YOURS VIRAT TIWARI :)"
   ]
  }
 ],
 "metadata": {
  "kernelspec": {
   "display_name": "Python 3 (ipykernel)",
   "language": "python",
   "name": "python3"
  },
  "language_info": {
   "codemirror_mode": {
    "name": "ipython",
    "version": 3
   },
   "file_extension": ".py",
   "mimetype": "text/x-python",
   "name": "python",
   "nbconvert_exporter": "python",
   "pygments_lexer": "ipython3",
   "version": "3.10.8"
  }
 },
 "nbformat": 4,
 "nbformat_minor": 5
}
