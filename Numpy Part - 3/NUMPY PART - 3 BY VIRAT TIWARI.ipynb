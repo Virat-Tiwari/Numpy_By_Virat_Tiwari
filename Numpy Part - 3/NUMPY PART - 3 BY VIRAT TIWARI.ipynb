{
 "cells": [
  {
   "cell_type": "markdown",
   "id": "a98bd9c1-6190-412f-8edc-18c498d5943a",
   "metadata": {},
   "source": [
    "SORT , SEARCH & COUNTING FUNCTIONS IN NUMPY -"
   ]
  },
  {
   "cell_type": "code",
   "execution_count": 1,
   "id": "26a975ef-bd41-40c9-9633-522b4b114125",
   "metadata": {},
   "outputs": [],
   "source": [
    "import numpy as np"
   ]
  },
  {
   "cell_type": "code",
   "execution_count": 13,
   "id": "113d7081-3f8d-4c41-a6af-f0dedfa535f9",
   "metadata": {},
   "outputs": [],
   "source": [
    "arr=np.array([4,5,8,9,3,7,8,99,1,3,145,100,176,15,35,46,20,53,40])"
   ]
  },
  {
   "cell_type": "code",
   "execution_count": 14,
   "id": "1a752875-a0c5-44d8-b1eb-d59e43974a69",
   "metadata": {},
   "outputs": [
    {
     "data": {
      "text/plain": [
       "array([  4,   5,   8,   9,   3,   7,   8,  99,   1,   3, 145, 100, 176,\n",
       "        15,  35,  46,  20,  53,  40])"
      ]
     },
     "execution_count": 14,
     "metadata": {},
     "output_type": "execute_result"
    }
   ],
   "source": [
    "arr"
   ]
  },
  {
   "cell_type": "code",
   "execution_count": 15,
   "id": "d9a03cfc-450e-47bb-afd3-cb637fe9dc36",
   "metadata": {},
   "outputs": [
    {
     "data": {
      "text/plain": [
       "array([  1,   3,   3,   4,   5,   7,   8,   8,   9,  15,  20,  35,  40,\n",
       "        46,  53,  99, 100, 145, 176])"
      ]
     },
     "execution_count": 15,
     "metadata": {},
     "output_type": "execute_result"
    }
   ],
   "source": [
    "# sort ( ) function arrange the array in ascending order\n",
    "\n",
    "np.sort(arr)"
   ]
  },
  {
   "cell_type": "code",
   "execution_count": 17,
   "id": "93333603-84f3-449d-ace5-b6632c2843f9",
   "metadata": {},
   "outputs": [
    {
     "data": {
      "text/plain": [
       "17"
      ]
     },
     "execution_count": 17,
     "metadata": {},
     "output_type": "execute_result"
    }
   ],
   "source": [
    "# .searchsorted ( ) function gives the index value whwre our interger is going to be placed\n",
    "\n",
    "# Here we take the value 38 that placed on 17 index and that index value is given by searchsorted function\n",
    "\n",
    "np.searchsorted(arr,38)"
   ]
  },
  {
   "cell_type": "code",
   "execution_count": 18,
   "id": "de259527-f00e-4f53-b5a6-b5dea27a4f5a",
   "metadata": {},
   "outputs": [],
   "source": [
    "arr1=np.array([0,56,485,975,315,2031,97,0,25,0])"
   ]
  },
  {
   "cell_type": "code",
   "execution_count": 19,
   "id": "bd0e2ed1-7597-44ca-bebc-c4fe1e6f3593",
   "metadata": {},
   "outputs": [
    {
     "data": {
      "text/plain": [
       "7"
      ]
     },
     "execution_count": 19,
     "metadata": {},
     "output_type": "execute_result"
    }
   ],
   "source": [
    "# count_nonzero ( ) function gives the total numbers that are non zero\n",
    "\n",
    "np.count_nonzero(arr1)"
   ]
  },
  {
   "cell_type": "code",
   "execution_count": 20,
   "id": "45642554-3acd-4810-aedd-a7e8d1b7f834",
   "metadata": {},
   "outputs": [
    {
     "data": {
      "text/plain": [
       "array([  4,   5,   8,   9,   3,   7,   8,  99,   1,   3, 145, 100, 176,\n",
       "        15,  35,  46,  20,  53,  40])"
      ]
     },
     "execution_count": 20,
     "metadata": {},
     "output_type": "execute_result"
    }
   ],
   "source": [
    "arr"
   ]
  },
  {
   "cell_type": "code",
   "execution_count": 22,
   "id": "26f54739-2009-4bba-979b-8e25b6d8ebc1",
   "metadata": {},
   "outputs": [
    {
     "data": {
      "text/plain": [
       "(array([ 7, 10, 11, 12, 17]),)"
      ]
     },
     "execution_count": 22,
     "metadata": {},
     "output_type": "execute_result"
    }
   ],
   "source": [
    "# where( ) function give the index on which data is available greater than define value\n",
    "\n",
    "np.where(arr>50)"
   ]
  },
  {
   "cell_type": "code",
   "execution_count": 23,
   "id": "109c14a6-2a3f-4a9e-b385-0cb8765bb05c",
   "metadata": {},
   "outputs": [
    {
     "data": {
      "text/plain": [
       "array([  8,   9,   7,   8,  99, 145, 100, 176,  15,  35,  46,  20,  53,\n",
       "        40])"
      ]
     },
     "execution_count": 23,
     "metadata": {},
     "output_type": "execute_result"
    }
   ],
   "source": [
    "# This is we exctract the data on behalf the passing data\n",
    "\n",
    "np.extract(arr>5,arr)"
   ]
  },
  {
   "cell_type": "markdown",
   "id": "654c6446-df8d-48cb-b288-e9b6f4eb18d5",
   "metadata": {},
   "source": [
    "BYTE SWAPPING IN NUMPY - IT REPRESENT THE DATA INTO THE BYTES"
   ]
  },
  {
   "cell_type": "code",
   "execution_count": 24,
   "id": "8d72009a-de9c-47bc-90ba-4f4717fd1cdc",
   "metadata": {},
   "outputs": [
    {
     "data": {
      "text/plain": [
       "array([  4,   5,   8,   9,   3,   7,   8,  99,   1,   3, 145, 100, 176,\n",
       "        15,  35,  46,  20,  53,  40])"
      ]
     },
     "execution_count": 24,
     "metadata": {},
     "output_type": "execute_result"
    }
   ],
   "source": [
    "arr"
   ]
  },
  {
   "cell_type": "code",
   "execution_count": 25,
   "id": "c3d6aecb-58d8-4e1d-996b-efb88008b8fb",
   "metadata": {},
   "outputs": [
    {
     "data": {
      "text/plain": [
       "array([  288230376151711744,   360287970189639680,   576460752303423488,\n",
       "         648518346341351424,   216172782113783808,   504403158265495552,\n",
       "         576460752303423488,  7133701809754865664,    72057594037927936,\n",
       "         216172782113783808, -7998392938210000896,  7205759403792793600,\n",
       "       -5764607523034234880,  1080863910568919040,  2522015791327477760,\n",
       "        3314649325744685056,  1441151880758558720,  3819052484010180608,\n",
       "        2882303761517117440])"
      ]
     },
     "execution_count": 25,
     "metadata": {},
     "output_type": "execute_result"
    }
   ],
   "source": [
    "# byteswap ( ) function every value of array into the bytes and present it in bytes\n",
    "\n",
    "arr.byteswap()"
   ]
  },
  {
   "cell_type": "markdown",
   "id": "2db9125c-51ee-4450-929c-e7f540f3f45b",
   "metadata": {},
   "source": [
    "COPIES AND VIEWS IN NUMPY - "
   ]
  },
  {
   "cell_type": "code",
   "execution_count": 26,
   "id": "6cc92c59-8402-4176-ba61-fc67b98ea4f9",
   "metadata": {},
   "outputs": [
    {
     "data": {
      "text/plain": [
       "array([  4,   5,   8,   9,   3,   7,   8,  99,   1,   3, 145, 100, 176,\n",
       "        15,  35,  46,  20,  53,  40])"
      ]
     },
     "execution_count": 26,
     "metadata": {},
     "output_type": "execute_result"
    }
   ],
   "source": [
    "arr"
   ]
  },
  {
   "cell_type": "code",
   "execution_count": 27,
   "id": "91201e93-335c-4a3e-9b99-af0f3f25fdc5",
   "metadata": {},
   "outputs": [],
   "source": [
    "# In case of copies it will create another copy with the change \n",
    "\n",
    "a=np.copy(arr)"
   ]
  },
  {
   "cell_type": "code",
   "execution_count": 28,
   "id": "fd7af6c1-32df-412d-991f-76e6a035a9be",
   "metadata": {},
   "outputs": [],
   "source": [
    "# In case of view , it will change the original array without creating the new copy \n",
    "\n",
    "b=arr.view()"
   ]
  },
  {
   "cell_type": "code",
   "execution_count": 29,
   "id": "a0c10044-24e7-4f1e-88c5-a1a88ef33693",
   "metadata": {},
   "outputs": [
    {
     "data": {
      "text/plain": [
       "array([  4,   5,   8,   9,   3,   7,   8,  99,   1,   3, 145, 100, 176,\n",
       "        15,  35,  46,  20,  53,  40])"
      ]
     },
     "execution_count": 29,
     "metadata": {},
     "output_type": "execute_result"
    }
   ],
   "source": [
    "b"
   ]
  },
  {
   "cell_type": "code",
   "execution_count": 30,
   "id": "8b37c1f3-8d7a-483c-9320-0b0788481038",
   "metadata": {},
   "outputs": [
    {
     "data": {
      "text/plain": [
       "array([  4,   5,   8,   9,   3,   7,   8,  99,   1,   3, 145, 100, 176,\n",
       "        15,  35,  46,  20,  53,  40])"
      ]
     },
     "execution_count": 30,
     "metadata": {},
     "output_type": "execute_result"
    }
   ],
   "source": [
    "arr"
   ]
  },
  {
   "cell_type": "code",
   "execution_count": 32,
   "id": "12e8fbe6-8067-4297-a6d0-cc2de94118e3",
   "metadata": {},
   "outputs": [],
   "source": [
    "b[0]=67"
   ]
  },
  {
   "cell_type": "code",
   "execution_count": 33,
   "id": "b5db8080-9725-4703-ae90-80ab0c84a4ba",
   "metadata": {},
   "outputs": [
    {
     "data": {
      "text/plain": [
       "array([ 67,   5,   8,   9,   3,   7,   8,  99,   1,   3, 145, 100, 176,\n",
       "        15,  35,  46,  20,  53,  40])"
      ]
     },
     "execution_count": 33,
     "metadata": {},
     "output_type": "execute_result"
    }
   ],
   "source": [
    "b"
   ]
  },
  {
   "cell_type": "markdown",
   "id": "1d193679-4431-497b-b3c9-1ba08afddd38",
   "metadata": {},
   "source": [
    "MATRIX LIBRARY IN NUMPY - MATRIX IS NOTHING BUT A SUB CLASS OF ARRAY"
   ]
  },
  {
   "cell_type": "code",
   "execution_count": 36,
   "id": "73a0b0af-c60b-43d8-9464-74e006ee4f71",
   "metadata": {},
   "outputs": [],
   "source": [
    "import numpy.matlib as nm"
   ]
  },
  {
   "cell_type": "code",
   "execution_count": 37,
   "id": "117d3381-f99a-4a49-9a97-63c5c920f7f7",
   "metadata": {},
   "outputs": [
    {
     "data": {
      "text/plain": [
       "matrix([[0., 0., 0., 0., 0.]])"
      ]
     },
     "execution_count": 37,
     "metadata": {},
     "output_type": "execute_result"
    }
   ],
   "source": [
    "nm.zeros(5)"
   ]
  },
  {
   "cell_type": "code",
   "execution_count": 38,
   "id": "2262a0df-3675-43ce-9384-a450d2497af3",
   "metadata": {},
   "outputs": [
    {
     "data": {
      "text/plain": [
       "matrix([[1., 1., 1., 1.],\n",
       "        [1., 1., 1., 1.],\n",
       "        [1., 1., 1., 1.]])"
      ]
     },
     "execution_count": 38,
     "metadata": {},
     "output_type": "execute_result"
    }
   ],
   "source": [
    "nm.ones((3,4))"
   ]
  },
  {
   "cell_type": "code",
   "execution_count": 39,
   "id": "91474e47-4533-4e25-ae13-8726629e1758",
   "metadata": {},
   "outputs": [
    {
     "data": {
      "text/plain": [
       "matrix([[1., 0., 0., 0., 0.],\n",
       "        [0., 1., 0., 0., 0.],\n",
       "        [0., 0., 1., 0., 0.],\n",
       "        [0., 0., 0., 1., 0.],\n",
       "        [0., 0., 0., 0., 1.]])"
      ]
     },
     "execution_count": 39,
     "metadata": {},
     "output_type": "execute_result"
    }
   ],
   "source": [
    "nm.eye(5)"
   ]
  },
  {
   "cell_type": "markdown",
   "id": "3ba8b03b-b0db-42d5-b555-c4677d636d3e",
   "metadata": {},
   "source": [
    "NOTE - MATRIX FUNCTIONS IS ALMOST SIMILAR TO THE ARRAY"
   ]
  },
  {
   "cell_type": "markdown",
   "id": "67cd3c0d-4752-434b-8b4b-6512c570468f",
   "metadata": {},
   "source": [
    "MOST IMPORTANT TOPIC - LINEAR ALGEBRA IN NUMPY "
   ]
  },
  {
   "cell_type": "code",
   "execution_count": 40,
   "id": "968b2820-df5c-45cc-afb0-3c31c7cf5551",
   "metadata": {},
   "outputs": [],
   "source": [
    "arr1=np.random.randint([[2,3],[4,5]])"
   ]
  },
  {
   "cell_type": "code",
   "execution_count": 41,
   "id": "f14a83f5-ea77-4f38-8e23-ce94ffe340ac",
   "metadata": {},
   "outputs": [],
   "source": [
    "arr2=np.random.randint([[2,3],[4,5]])"
   ]
  },
  {
   "cell_type": "code",
   "execution_count": 42,
   "id": "94ca58be-bbc4-4526-970c-e1e635105a8a",
   "metadata": {},
   "outputs": [
    {
     "data": {
      "text/plain": [
       "array([[1, 2],\n",
       "       [2, 2]])"
      ]
     },
     "execution_count": 42,
     "metadata": {},
     "output_type": "execute_result"
    }
   ],
   "source": [
    "arr1"
   ]
  },
  {
   "cell_type": "code",
   "execution_count": 43,
   "id": "891ebb45-3c70-49ae-b9a8-90ae03146f6b",
   "metadata": {},
   "outputs": [
    {
     "data": {
      "text/plain": [
       "array([[0, 1],\n",
       "       [1, 2]])"
      ]
     },
     "execution_count": 43,
     "metadata": {},
     "output_type": "execute_result"
    }
   ],
   "source": [
    "arr2"
   ]
  },
  {
   "cell_type": "code",
   "execution_count": 44,
   "id": "ae8d948f-17af-49c3-aa01-852854c80731",
   "metadata": {},
   "outputs": [
    {
     "data": {
      "text/plain": [
       "array([[2, 5],\n",
       "       [2, 6]])"
      ]
     },
     "execution_count": 44,
     "metadata": {},
     "output_type": "execute_result"
    }
   ],
   "source": [
    "# Matrix Multiplication by using dot ( ) function\n",
    "\n",
    "np.dot(arr1,arr2)"
   ]
  },
  {
   "cell_type": "code",
   "execution_count": 45,
   "id": "8208a495-a1d0-4fa0-825a-0bc30226fb94",
   "metadata": {},
   "outputs": [
    {
     "data": {
      "text/plain": [
       "array([[2, 5],\n",
       "       [2, 6]])"
      ]
     },
     "execution_count": 45,
     "metadata": {},
     "output_type": "execute_result"
    }
   ],
   "source": [
    "# Matrix Multiplication by using @ ( ) function\n",
    "\n",
    "\n",
    "arr1@arr2"
   ]
  },
  {
   "cell_type": "markdown",
   "id": "7d277465-835c-4b31-bd68-4a1bfc3a2463",
   "metadata": {},
   "source": [
    "THANK YOU SO MUCH !!\n",
    "\n",
    "YOURS VIRAT TIWARI :)"
   ]
  }
 ],
 "metadata": {
  "kernelspec": {
   "display_name": "Python 3 (ipykernel)",
   "language": "python",
   "name": "python3"
  },
  "language_info": {
   "codemirror_mode": {
    "name": "ipython",
    "version": 3
   },
   "file_extension": ".py",
   "mimetype": "text/x-python",
   "name": "python",
   "nbconvert_exporter": "python",
   "pygments_lexer": "ipython3",
   "version": "3.10.8"
  }
 },
 "nbformat": 4,
 "nbformat_minor": 5
}
